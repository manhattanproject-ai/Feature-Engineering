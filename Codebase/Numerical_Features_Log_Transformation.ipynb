{
  "nbformat": 4,
  "nbformat_minor": 0,
  "metadata": {
    "colab": {
      "provenance": []
    },
    "kernelspec": {
      "name": "python3",
      "display_name": "Python 3"
    },
    "language_info": {
      "name": "python"
    }
  },
  "cells": [
    {
      "cell_type": "markdown",
      "source": [
        "# Feature creation - Numerical features ( Feature Transformation )\n",
        "\n",
        "1. Log Transformation\n",
        "\n",
        "Imagine you're looking at the prices of houses in a city. You might see many houses priced between $200,000 and $500,000, but then a few very expensive mansions priced at $2 million, $5 million, or even more.\n",
        "\n",
        "If you were to plot these prices on a simple number line, the few very expensive houses would stretch the line out so much that it would be hard to see the differences between the more common, less expensive houses. It would be like having a rubber band stretched way out by a few heavy weights on one end.\n",
        "\n",
        "Log transformation is like using a special kind of ruler that helps us see the data more clearly when there's a big difference between the small and large values.\n",
        "\n",
        "Think of it as \"squishing\" the really big numbers down a bit, but not changing the order of the numbers. Smaller numbers don't get squished as much.\n",
        "\n",
        "Here's a simple example:\n",
        "\n",
        "Let's say we have the following house prices (in thousands of dollars):\n",
        "\n",
        "200\n",
        "\n",
        "300\n",
        "\n",
        "500\n",
        "\n",
        "1000 (which is 1 million)\n",
        "\n",
        "5000 (which is 5 million)\n",
        "\n",
        "The jump from 500 to 1000 is a big increase, and the jump from 1000 to 5000 is even bigger.\n",
        "\n",
        "Now, let's imagine we apply our special \"squishing\" ruler (the log transformation):\n",
        "\n",
        "Log(200) is around 2.3\n",
        "\n",
        "Log(300) is around 2.5\n",
        "\n",
        "Log(500) is around 2.7\n",
        "\n",
        "Log(1000) is 3\n",
        "\n",
        "Log(5000) is around 3.7\n",
        "\n",
        "Notice how the differences between the \"logged\" numbers are now smaller and more evenly spaced, even though the original prices had huge gaps. The big jump from 1000 to 5000 in the original prices is now a much smaller jump from 3 to 3.7.\n",
        "\n",
        "Why is this useful?\n",
        "\n",
        "1. Easier to see patterns: When data has this kind of spread (many small values and a few very large ones), a log transformation can make it easier to see underlying patterns in the more common values.\n",
        "\n",
        "2. Better for some calculations: Some mathematical formulas and computer models work better when the data isn't so skewed by extreme values. Log transformation can help make the data more \"well-behaved\" for these calculations.\n",
        "\n",
        "In simple terms, log transformation helps us bring very large numbers closer to the smaller numbers in our data, making it easier to analyze and understand the overall picture without the extreme values dominating everything. It's like adjusting the scale so we can see both the ants and the elephants in the room more clearly."
      ],
      "metadata": {
        "id": "x-0JE_AtyhgC"
      }
    },
    {
      "cell_type": "markdown",
      "source": [
        "# 1. Import necessary libraries"
      ],
      "metadata": {
        "id": "SYzCD1DRzhiE"
      }
    },
    {
      "cell_type": "code",
      "source": [
        "import numpy as np\n",
        "import pandas as pd\n",
        "import matplotlib.pyplot as plt\n",
        "import seaborn as sns"
      ],
      "metadata": {
        "id": "E_RYQmPReUMk"
      },
      "execution_count": 37,
      "outputs": []
    },
    {
      "cell_type": "markdown",
      "source": [
        "# 2. Create dataset"
      ],
      "metadata": {
        "id": "TP65ZUW56IIb"
      }
    },
    {
      "cell_type": "code",
      "source": [
        "# 1. House Prices in a City (in Lakhs of Rupees - as the context is ABC city)\n",
        "\n",
        "# Imagine you have data on house prices in ABC city. This data is likely to be\n",
        "# right-skewed, with many moderately priced houses and fewer very expensive ones.\n",
        "\n",
        "house_prices_lakhs = [\n",
        "    30, 45, 35, 50, 40, 25, 20, 80, 60, 32,\n",
        "    42, 48, 38, 55, 41, 28, 22, 120, 95, 31,\n",
        "    48, 52, 39, 65, 45, 29, 21, 150, 70, 40,\n",
        "    50, 46, 33, 68, 43, 30, 23, 180, 62, 37,\n",
        "    # Imagine many more data points, mostly under 70 lakhs\n",
        "]"
      ],
      "metadata": {
        "id": "O53jDsBoebsl"
      },
      "execution_count": 38,
      "outputs": []
    },
    {
      "cell_type": "markdown",
      "source": [
        "# 3. Add skewed datapoints to the dataset"
      ],
      "metadata": {
        "id": "qwekFQ516NEk"
      }
    },
    {
      "cell_type": "code",
      "source": [
        "# Let's add some higher-priced properties to create skewness\n",
        "house_prices_lakhs += [250, 300, 400, 550]"
      ],
      "metadata": {
        "id": "_l-REh3jefbp"
      },
      "execution_count": 39,
      "outputs": []
    },
    {
      "cell_type": "code",
      "source": [
        "# Create a Pandas Series\n",
        "house_prices_original = pd.Series(house_prices_lakhs + list(np.random.randint(25, 70, 90)) + list(np.random.randint(70, 200, 10)),name='Original House Prices (Lakhs)')"
      ],
      "metadata": {
        "id": "668pVzSKek41"
      },
      "execution_count": 40,
      "outputs": []
    },
    {
      "cell_type": "markdown",
      "source": [
        "# 4. Visualize the House prices distribution"
      ],
      "metadata": {
        "id": "EhckIfcL6aFQ"
      }
    },
    {
      "cell_type": "code",
      "source": [
        "# Visualize the original distribution\n",
        "plt.figure(figsize=(15, 8))\n",
        "plt.subplot(1, 2, 1)\n",
        "sns.histplot(house_prices_original, kde=True , color='Red')\n",
        "plt.title('Original House Prices Distribution (Lakhs)')\n",
        "plt.xlabel('House Price (Lakhs of Rupees)')\n",
        "plt.ylabel('Frequency');"
      ],
      "metadata": {
        "colab": {
          "base_uri": "https://localhost:8080/",
          "height": 718
        },
        "id": "msKLqfexeoaJ",
        "outputId": "e47ad5be-e4a9-407e-85a1-173267fa9683"
      },
      "execution_count": 41,
      "outputs": [
        {
          "output_type": "display_data",
          "data": {
            "text/plain": [
              "<Figure size 1500x800 with 1 Axes>"
            ],
            "image/png": "[encoded data removed]"
          },
          "metadata": {}
        }
      ]
    },
    {
      "cell_type": "markdown",
      "source": [
        "The distribution appears to be strongly right-skewed. Most of the houses are clustered at the lower end of the price range (below 100 Lakhs of Rupees), while there is a long tail extending towards higher prices."
      ],
      "metadata": {
        "id": "sBwyqOo-60e9"
      }
    },
    {
      "cell_type": "markdown",
      "source": [
        "# 5. Feature transformation using Logarithmic transformation"
      ],
      "metadata": {
        "id": "xnq5AQOL64pb"
      }
    },
    {
      "cell_type": "code",
      "source": [
        "# Apply Log Transformation (using natural logarithm)\n",
        "log_transformed_prices = np.log(house_prices_original)"
      ],
      "metadata": {
        "id": "NtWQR9RKjsvH"
      },
      "execution_count": 43,
      "outputs": []
    },
    {
      "cell_type": "code",
      "source": [
        "log_transformed_prices = pd.Series(log_transformed_prices, name='Log of House Price')"
      ],
      "metadata": {
        "id": "P9No1aTI-Wk0"
      },
      "execution_count": 44,
      "outputs": []
    },
    {
      "cell_type": "markdown",
      "source": [
        "# 6. Visualize the Log transformed feature"
      ],
      "metadata": {
        "id": "m4P0Y2Fk7Ah2"
      }
    },
    {
      "cell_type": "code",
      "source": [
        "# Visualize the transformed distribution\n",
        "plt.figure(figsize=(15, 8))\n",
        "plt.subplot(1, 2, 2)\n",
        "sns.histplot(log_transformed_prices, kde=True , color='Red')\n",
        "plt.title('Log-Transformed House Prices Distribution')\n",
        "plt.xlabel('Log of House Price')\n",
        "plt.ylabel('Frequency')\n",
        "\n",
        "plt.tight_layout()\n",
        "plt.show()"
      ],
      "metadata": {
        "colab": {
          "base_uri": "https://localhost:8080/",
          "height": 807
        },
        "id": "OTnfOW6B4hCm",
        "outputId": "1fc0ff07-7ddf-4723-b9fd-9e053198c91f"
      },
      "execution_count": 45,
      "outputs": [
        {
          "output_type": "display_data",
          "data": {
            "text/plain": [
              "<Figure size 1500x800 with 1 Axes>"
            ],
            "image/png": "[encoded data removed]"
          },
          "metadata": {}
        }
      ]
    },
    {
      "cell_type": "markdown",
      "source": [
        "Inference : The log transformation has effectively addressed the strong right skewness present in the original house price data, resulting in a distribution that is more symmetric and closer to a normal distribution."
      ],
      "metadata": {
        "id": "ZxmktbuY7erM"
      }
    },
    {
      "cell_type": "markdown",
      "source": [
        "Mathematical Form:\n",
        "\n",
        "1. Natural Logarithm: y' = ln(y)\n",
        "2. Base-10 Logarithm: y' = log10(y)\n",
        "3. Other bases are possible but less common.\n",
        "\n",
        "When to Use:\n",
        "\n",
        "1. Right-Skewed Data: This is the most common use case. Log transformation pulls in the long tail of the distribution, making it more symmetric.\n",
        "2. Data with Multiplicative Relationships: If the relationship between variables seems multiplicative rather than additive, a log transformation can linearize it. For example, in growth models.\n",
        "3. Stabilizing Variance (Heteroscedasticity): When the spread of the data increases with the mean, a log transformation can help stabilize the variance across different levels of the independent variable.\n",
        "4. Transforming Ratios: Logarithms can turn ratios into differences, which can be easier to model.\n",
        "\n",
        "How it Helps:\n",
        "\n",
        "1. Achieving Normality: Many statistical tests assume normality. Log transformation can make the data more normally distributed, allowing for the valid use of these tests (e.g., t-tests, ANOVA).\n",
        "2. Linearizing Relationships: Linear regression models assume a linear relationship between variables. Log transformation can help linearize non-linear relationships, improving the fit of the model.\n",
        "3. Improving Interpretability: In some cases, working with log-transformed data can lead to more interpretable coefficients, especially when dealing with multiplicative effects (e.g., a coefficient in a log-linear model can be interpreted as a percentage change).\n",
        "\n",
        "Important Considerations:\n",
        "\n",
        "1. Positive Data Only: Logarithms are only defined for positive values. If your data contains zeros or negative values, you'll need to add a constant before taking the logarithm (e.g., ln(y + c) where c is a small positive number) or consider other transformations.\n",
        "2. Interpretation: Remember that after the transformation, your results are in the log scale. You'll need to back-transform the results to the original scale for interpretation."
      ],
      "metadata": {
        "id": "31gaIY7l5MIc"
      }
    },
    {
      "cell_type": "markdown",
      "source": [
        "# 7. Comparing the 2 columns"
      ],
      "metadata": {
        "id": "QdFeI_XX8NkL"
      }
    },
    {
      "cell_type": "code",
      "source": [
        "# Create DataFrame using pd.concat()\n",
        "df_concat = pd.concat([house_prices_original, log_transformed_prices], axis=1 )\n",
        "df_concat"
      ],
      "metadata": {
        "colab": {
          "base_uri": "https://localhost:8080/",
          "height": 424
        },
        "id": "XwME-x5F4ndE",
        "outputId": "72759aae-c383-4558-fecc-d0d223dbd974"
      },
      "execution_count": 46,
      "outputs": [
        {
          "output_type": "execute_result",
          "data": {
            "text/plain": [
              "     Original House Prices (Lakhs)  Log of House Price\n",
              "0                               30            3.401197\n",
              "1                               45            3.806662\n",
              "2                               35            3.555348\n",
              "3                               50            3.912023\n",
              "4                               40            3.688879\n",
              "..                             ...                 ...\n",
              "139                            188            5.236442\n",
              "140                            132            4.882802\n",
              "141                             79            4.369448\n",
              "142                            134            4.897840\n",
              "143                            121            4.795791\n",
              "\n",
              "[144 rows x 2 columns]"
            ],
            "text/html": [
              "\n",
              "  <div id=\"df-1a99a5a2-5c54-416f-9f6e-c1065d5179d0\" class=\"colab-df-container\">\n",
              "    <div>\n",
              "<style scoped>\n",
              "    .dataframe tbody tr th:only-of-type {\n",
              "        vertical-align: middle;\n",
              "    }\n",
              "\n",
              "    .dataframe tbody tr th {\n",
              "        vertical-align: top;\n",
              "    }\n",
              "\n",
              "    .dataframe thead th {\n",
              "        text-align: right;\n",
              "    }\n",
              "</style>\n",
              "<table border=\"1\" class=\"dataframe\">\n",
              "  <thead>\n",
              "    <tr style=\"text-align: right;\">\n",
              "      <th></th>\n",
              "      <th>Original House Prices (Lakhs)</th>\n",
              "      <th>Log of House Price</th>\n",
              "    </tr>\n",
              "  </thead>\n",
              "  <tbody>\n",
              "    <tr>\n",
              "      <th>0</th>\n",
              "      <td>30</td>\n",
              "      <td>3.401197</td>\n",
              "    </tr>\n",
              "    <tr>\n",
              "      <th>1</th>\n",
              "      <td>45</td>\n",
              "      <td>3.806662</td>\n",
              "    </tr>\n",
              "    <tr>\n",
              "      <th>2</th>\n",
              "      <td>35</td>\n",
              "      <td>3.555348</td>\n",
              "    </tr>\n",
              "    <tr>\n",
              "      <th>3</th>\n",
              "      <td>50</td>\n",
              "      <td>3.912023</td>\n",
              "    </tr>\n",
              "    <tr>\n",
              "      <th>4</th>\n",
              "      <td>40</td>\n",
              "      <td>3.688879</td>\n",
              "    </tr>\n",
              "    <tr>\n",
              "      <th>...</th>\n",
              "      <td>...</td>\n",
              "      <td>...</td>\n",
              "    </tr>\n",
              "    <tr>\n",
              "      <th>139</th>\n",
              "      <td>188</td>\n",
              "      <td>5.236442</td>\n",
              "    </tr>\n",
              "    <tr>\n",
              "      <th>140</th>\n",
              "      <td>132</td>\n",
              "      <td>4.882802</td>\n",
              "    </tr>\n",
              "    <tr>\n",
              "      <th>141</th>\n",
              "      <td>79</td>\n",
              "      <td>4.369448</td>\n",
              "    </tr>\n",
              "    <tr>\n",
              "      <th>142</th>\n",
              "      <td>134</td>\n",
              "      <td>4.897840</td>\n",
              "    </tr>\n",
              "    <tr>\n",
              "      <th>143</th>\n",
              "      <td>121</td>\n",
              "      <td>4.795791</td>\n",
              "    </tr>\n",
              "  </tbody>\n",
              "</table>\n",
              "<p>144 rows × 2 columns</p>\n",
              "</div>\n",
              "    <div class=\"colab-df-buttons\">\n",
              "\n",
              "  <div class=\"colab-df-container\">\n",
              "    <button class=\"colab-df-convert\" onclick=\"convertToInteractive('df-1a99a5a2-5c54-416f-9f6e-c1065d5179d0')\"\n",
              "            title=\"Convert this dataframe to an interactive table.\"\n",
              "            style=\"display:none;\">\n",
              "\n",
              "  <svg xmlns=\"http://www.w3.org/2000/svg\" height=\"24px\" viewBox=\"0 -960 960 960\">\n",
              "    <path d=\"M120-120v-720h720v720H120Zm60-500h600v-160H180v160Zm220 220h160v-160H400v160Zm0 220h160v-160H400v160ZM180-400h160v-160H180v160Zm440 0h160v-160H620v160ZM180-180h160v-160H180v160Zm440 0h160v-160H620v160Z\"/>\n",
              "  </svg>\n",
              "    </button>\n",
              "\n",
              "  <style>\n",
              "    .colab-df-container {\n",
              "      display:flex;\n",
              "      gap: 12px;\n",
              "    }\n",
              "\n",
              "    .colab-df-convert {\n",
              "      background-color: #E8F0FE;\n",
              "      border: none;\n",
              "      border-radius: 50%;\n",
              "      cursor: pointer;\n",
              "      display: none;\n",
              "      fill: #1967D2;\n",
              "      height: 32px;\n",
              "      padding: 0 0 0 0;\n",
              "      width: 32px;\n",
              "    }\n",
              "\n",
              "    .colab-df-convert:hover {\n",
              "      background-color: #E2EBFA;\n",
              "      box-shadow: 0px 1px 2px rgba(60, 64, 67, 0.3), 0px 1px 3px 1px rgba(60, 64, 67, 0.15);\n",
              "      fill: #174EA6;\n",
              "    }\n",
              "\n",
              "    .colab-df-buttons div {\n",
              "      margin-bottom: 4px;\n",
              "    }\n",
              "\n",
              "    [theme=dark] .colab-df-convert {\n",
              "      background-color: #3B4455;\n",
              "      fill: #D2E3FC;\n",
              "    }\n",
              "\n",
              "    [theme=dark] .colab-df-convert:hover {\n",
              "      background-color: #434B5C;\n",
              "      box-shadow: 0px 1px 3px 1px rgba(0, 0, 0, 0.15);\n",
              "      filter: drop-shadow(0px 1px 2px rgba(0, 0, 0, 0.3));\n",
              "      fill: #FFFFFF;\n",
              "    }\n",
              "  </style>\n",
              "\n",
              "    <script>\n",
              "      const buttonEl =\n",
              "        document.querySelector('#df-1a99a5a2-5c54-416f-9f6e-c1065d5179d0 button.colab-df-convert');\n",
              "      buttonEl.style.display =\n",
              "        google.colab.kernel.accessAllowed ? 'block' : 'none';\n",
              "\n",
              "      async function convertToInteractive(key) {\n",
              "        const element = document.querySelector('#df-1a99a5a2-5c54-416f-9f6e-c1065d5179d0');\n",
              "        const dataTable =\n",
              "          await google.colab.kernel.invokeFunction('convertToInteractive',\n",
              "                                                    [key], {});\n",
              "        if (!dataTable) return;\n",
              "\n",
              "        const docLinkHtml = 'Like what you see? Visit the ' +\n",
              "          '<a target=\"_blank\" href=https://colab.research.google.com/notebooks/data_table.ipynb>data table notebook</a>'\n",
              "          + ' to learn more about interactive tables.';\n",
              "        element.innerHTML = '';\n",
              "        dataTable['output_type'] = 'display_data';\n",
              "        await google.colab.output.renderOutput(dataTable, element);\n",
              "        const docLink = document.createElement('div');\n",
              "        docLink.innerHTML = docLinkHtml;\n",
              "        element.appendChild(docLink);\n",
              "      }\n",
              "    </script>\n",
              "  </div>\n",
              "\n",
              "\n",
              "<div id=\"df-50cece00-128a-4652-a729-a31cccf27cb6\">\n",
              "  <button class=\"colab-df-quickchart\" onclick=\"quickchart('df-50cece00-128a-4652-a729-a31cccf27cb6')\"\n",
              "            title=\"Suggest charts\"\n",
              "            style=\"display:none;\">\n",
              "\n",
              "<svg xmlns=\"http://www.w3.org/2000/svg\" height=\"24px\"viewBox=\"0 0 24 24\"\n",
              "     width=\"24px\">\n",
              "    <g>\n",
              "        <path d=\"M19 3H5c-1.1 0-2 .9-2 2v14c0 1.1.9 2 2 2h14c1.1 0 2-.9 2-2V5c0-1.1-.9-2-2-2zM9 17H7v-7h2v7zm4 0h-2V7h2v10zm4 0h-2v-4h2v4z\"/>\n",
              "    </g>\n",
              "</svg>\n",
              "  </button>\n",
              "\n",
              "<style>\n",
              "  .colab-df-quickchart {\n",
              "      --bg-color: #E8F0FE;\n",
              "      --fill-color: #1967D2;\n",
              "      --hover-bg-color: #E2EBFA;\n",
              "      --hover-fill-color: #174EA6;\n",
              "      --disabled-fill-color: #AAA;\n",
              "      --disabled-bg-color: #DDD;\n",
              "  }\n",
              "\n",
              "  [theme=dark] .colab-df-quickchart {\n",
              "      --bg-color: #3B4455;\n",
              "      --fill-color: #D2E3FC;\n",
              "      --hover-bg-color: #434B5C;\n",
              "      --hover-fill-color: #FFFFFF;\n",
              "      --disabled-bg-color: #3B4455;\n",
              "      --disabled-fill-color: #666;\n",
              "  }\n",
              "\n",
              "  .colab-df-quickchart {\n",
              "    background-color: var(--bg-color);\n",
              "    border: none;\n",
              "    border-radius: 50%;\n",
              "    cursor: pointer;\n",
              "    display: none;\n",
              "    fill: var(--fill-color);\n",
              "    height: 32px;\n",
              "    padding: 0;\n",
              "    width: 32px;\n",
              "  }\n",
              "\n",
              "  .colab-df-quickchart:hover {\n",
              "    background-color: var(--hover-bg-color);\n",
              "    box-shadow: 0 1px 2px rgba(60, 64, 67, 0.3), 0 1px 3px 1px rgba(60, 64, 67, 0.15);\n",
              "    fill: var(--button-hover-fill-color);\n",
              "  }\n",
              "\n",
              "  .colab-df-quickchart-complete:disabled,\n",
              "  .colab-df-quickchart-complete:disabled:hover {\n",
              "    background-color: var(--disabled-bg-color);\n",
              "    fill: var(--disabled-fill-color);\n",
              "    box-shadow: none;\n",
              "  }\n",
              "\n",
              "  .colab-df-spinner {\n",
              "    border: 2px solid var(--fill-color);\n",
              "    border-color: transparent;\n",
              "    border-bottom-color: var(--fill-color);\n",
              "    animation:\n",
              "      spin 1s steps(1) infinite;\n",
              "  }\n",
              "\n",
              "  @keyframes spin {\n",
              "    0% {\n",
              "      border-color: transparent;\n",
              "      border-bottom-color: var(--fill-color);\n",
              "      border-left-color: var(--fill-color);\n",
              "    }\n",
              "    20% {\n",
              "      border-color: transparent;\n",
              "      border-left-color: var(--fill-color);\n",
              "      border-top-color: var(--fill-color);\n",
              "    }\n",
              "    30% {\n",
              "      border-color: transparent;\n",
              "      border-left-color: var(--fill-color);\n",
              "      border-top-color: var(--fill-color);\n",
              "      border-right-color: var(--fill-color);\n",
              "    }\n",
              "    40% {\n",
              "      border-color: transparent;\n",
              "      border-right-color: var(--fill-color);\n",
              "      border-top-color: var(--fill-color);\n",
              "    }\n",
              "    60% {\n",
              "      border-color: transparent;\n",
              "      border-right-color: var(--fill-color);\n",
              "    }\n",
              "    80% {\n",
              "      border-color: transparent;\n",
              "      border-right-color: var(--fill-color);\n",
              "      border-bottom-color: var(--fill-color);\n",
              "    }\n",
              "    90% {\n",
              "      border-color: transparent;\n",
              "      border-bottom-color: var(--fill-color);\n",
              "    }\n",
              "  }\n",
              "</style>\n",
              "\n",
              "  <script>\n",
              "    async function quickchart(key) {\n",
              "      const quickchartButtonEl =\n",
              "        document.querySelector('#' + key + ' button');\n",
              "      quickchartButtonEl.disabled = true;  // To prevent multiple clicks.\n",
              "      quickchartButtonEl.classList.add('colab-df-spinner');\n",
              "      try {\n",
              "        const charts = await google.colab.kernel.invokeFunction(\n",
              "            'suggestCharts', [key], {});\n",
              "      } catch (error) {\n",
              "        console.error('Error during call to suggestCharts:', error);\n",
              "      }\n",
              "      quickchartButtonEl.classList.remove('colab-df-spinner');\n",
              "      quickchartButtonEl.classList.add('colab-df-quickchart-complete');\n",
              "    }\n",
              "    (() => {\n",
              "      let quickchartButtonEl =\n",
              "        document.querySelector('#df-50cece00-128a-4652-a729-a31cccf27cb6 button');\n",
              "      quickchartButtonEl.style.display =\n",
              "        google.colab.kernel.accessAllowed ? 'block' : 'none';\n",
              "    })();\n",
              "  </script>\n",
              "</div>\n",
              "\n",
              "  <div id=\"id_1f1a15f3-9395-42ae-b38c-a53a184d74d5\">\n",
              "    <style>\n",
              "      .colab-df-generate {\n",
              "        background-color: #E8F0FE;\n",
              "        border: none;\n",
              "        border-radius: 50%;\n",
              "        cursor: pointer;\n",
              "        display: none;\n",
              "        fill: #1967D2;\n",
              "        height: 32px;\n",
              "        padding: 0 0 0 0;\n",
              "        width: 32px;\n",
              "      }\n",
              "\n",
              "      .colab-df-generate:hover {\n",
              "        background-color: #E2EBFA;\n",
              "        box-shadow: 0px 1px 2px rgba(60, 64, 67, 0.3), 0px 1px 3px 1px rgba(60, 64, 67, 0.15);\n",
              "        fill: #174EA6;\n",
              "      }\n",
              "\n",
              "      [theme=dark] .colab-df-generate {\n",
              "        background-color: #3B4455;\n",
              "        fill: #D2E3FC;\n",
              "      }\n",
              "\n",
              "      [theme=dark] .colab-df-generate:hover {\n",
              "        background-color: #434B5C;\n",
              "        box-shadow: 0px 1px 3px 1px rgba(0, 0, 0, 0.15);\n",
              "        filter: drop-shadow(0px 1px 2px rgba(0, 0, 0, 0.3));\n",
              "        fill: #FFFFFF;\n",
              "      }\n",
              "    </style>\n",
              "    <button class=\"colab-df-generate\" onclick=\"generateWithVariable('df_concat')\"\n",
              "            title=\"Generate code using this dataframe.\"\n",
              "            style=\"display:none;\">\n",
              "\n",
              "  <svg xmlns=\"http://www.w3.org/2000/svg\" height=\"24px\"viewBox=\"0 0 24 24\"\n",
              "       width=\"24px\">\n",
              "    <path d=\"M7,19H8.4L18.45,9,17,7.55,7,17.6ZM5,21V16.75L18.45,3.32a2,2,0,0,1,2.83,0l1.4,1.43a1.91,1.91,0,0,1,.58,1.4,1.91,1.91,0,0,1-.58,1.4L9.25,21ZM18.45,9,17,7.55Zm-12,3A5.31,5.31,0,0,0,4.9,8.1,5.31,5.31,0,0,0,1,6.5,5.31,5.31,0,0,0,4.9,4.9,5.31,5.31,0,0,0,6.5,1,5.31,5.31,0,0,0,8.1,4.9,5.31,5.31,0,0,0,12,6.5,5.46,5.46,0,0,0,6.5,12Z\"/>\n",
              "  </svg>\n",
              "    </button>\n",
              "    <script>\n",
              "      (() => {\n",
              "      const buttonEl =\n",
              "        document.querySelector('#id_1f1a15f3-9395-42ae-b38c-a53a184d74d5 button.colab-df-generate');\n",
              "      buttonEl.style.display =\n",
              "        google.colab.kernel.accessAllowed ? 'block' : 'none';\n",
              "\n",
              "      buttonEl.onclick = () => {\n",
              "        google.colab.notebook.generateWithVariable('df_concat');\n",
              "      }\n",
              "      })();\n",
              "    </script>\n",
              "  </div>\n",
              "\n",
              "    </div>\n",
              "  </div>\n"
            ],
            "application/vnd.google.colaboratory.intrinsic+json": {
              "type": "dataframe",
              "variable_name": "df_concat",
              "summary": "{\n  \"name\": \"df_concat\",\n  \"rows\": 144,\n  \"fields\": [\n    {\n      \"column\": \"Original House Prices (Lakhs)\",\n      \"properties\": {\n        \"dtype\": \"number\",\n        \"std\": 64,\n        \"min\": 20,\n        \"max\": 550,\n        \"num_unique_values\": 65,\n        \"samples\": [\n          34,\n          188,\n          30\n        ],\n        \"semantic_type\": \"\",\n        \"description\": \"\"\n      }\n    },\n    {\n      \"column\": \"Log of House Price\",\n      \"properties\": {\n        \"dtype\": \"number\",\n        \"std\": 0.5676878984716447,\n        \"min\": 2.995732273553991,\n        \"max\": 6.309918278226516,\n        \"num_unique_values\": 65,\n        \"samples\": [\n          3.5263605246161616,\n          5.236441962829949,\n          3.4011973816621555\n        ],\n        \"semantic_type\": \"\",\n        \"description\": \"\"\n      }\n    }\n  ]\n}"
            }
          },
          "metadata": {},
          "execution_count": 46
        }
      ]
    },
    {
      "cell_type": "markdown",
      "source": [
        "So while considering in a model we should consider the 'Log of House Price' column"
      ],
      "metadata": {
        "id": "b8ohb6u38SBo"
      }
    },
    {
      "cell_type": "code",
      "source": [],
      "metadata": {
        "id": "pahf2HKJ8J24"
      },
      "execution_count": null,
      "outputs": []
    }
  ]
}