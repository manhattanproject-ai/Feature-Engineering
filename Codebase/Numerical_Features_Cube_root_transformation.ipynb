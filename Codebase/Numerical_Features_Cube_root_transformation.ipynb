{
  "nbformat": 4,
  "nbformat_minor": 0,
  "metadata": {
    "colab": {
      "provenance": []
    },
    "kernelspec": {
      "name": "python3",
      "display_name": "Python 3"
    },
    "language_info": {
      "name": "python"
    }
  },
  "cells": [
    {
      "cell_type": "markdown",
      "source": [
        "# Feature creation - Numerical features ( Feature Transformation )\n",
        "\n",
        "3. Cube root transformation\n",
        "\n",
        "Imagine you're measuring the amount of water in different oddly shaped containers. Some containers might hold a little bit, some a decent amount, and a few very large ones could hold a huge volume.\n",
        "\n",
        "If you were to compare these volumes directly, the really big ones would overshadow the smaller ones, making it hard to see the differences among the less voluminous containers.\n",
        "\n",
        "Cube root transformation is like using a special lens that helps us see the differences in the smaller volumes more clearly, while shrinking down the really, really huge volumes even more than the square root does.\n",
        "\n",
        "Think of it like this:\n",
        "\n",
        "1. The cube root of 8 is 2 (because 2 x 2 x 2 = 8).\n",
        "2. The cube root of 27 is 3 (because 3 x 3 x 3 = 27).\n",
        "3. The cube root of 1000 is 10 (because 10 x 10 x 10 = 1000).\n",
        "4. The cube root of 1,000,000 is 100 (because 100 x 100 x 100 = 1,000,000).\n",
        "\n",
        "Notice how the gaps between the numbers get compressed even more with the cube root compared to the original numbers.\n",
        "\n",
        "Here's a simple example with water volume (in liters):\n",
        "\n",
        "Let's say we have the following volumes of water in different containers:\n",
        "\n",
        "8\n",
        "\n",
        "27\n",
        "\n",
        "64\n",
        "\n",
        "125\n",
        "\n",
        "1000\n",
        "\n",
        "Now, let's apply the cube root transformation to these volumes:\n",
        "\n",
        "1. Cube root of 8 is 2\n",
        "2. Cube root of 27 is 3\n",
        "3. Cube root of 64 is 4\n",
        "4. Cube root of 125 is 5\n",
        "5. Cube root of 1000 is 10\n",
        "\n",
        "See how the original numbers had increasingly larger gaps? After the cube root transformation, the gaps are now consistently 1 for the smaller numbers, and the large jump to 1000 is significantly reduced to 10.\n",
        "\n",
        "Why is this useful?\n",
        "\n",
        "Reduces the impact of extreme outliers even more: Compared to the square root, the cube root transformation is even stronger at bringing very large values closer to the rest of the data. This is especially helpful when you have some truly massive values that could really distort your analysis.\n",
        "\n",
        "Helps to make skewed data more symmetrical: If your data has a very long tail on one side (meaning there are many small values and a few extremely large ones), the cube root can be very effective in making the distribution more balanced.\n",
        "\n",
        "Can handle negative values: Unlike the square root (which doesn't work with negative real numbers), the cube root can be applied to negative numbers and will result in a negative number (e.g., the cube root of -8 is -2).\n",
        "\n",
        "In simple terms, the cube root transformation is like an even stronger version of our \"squishing\" tool for data. It's particularly good at taming very extreme values and making highly skewed data look more balanced, allowing us to see patterns more clearly without being overwhelmed by the giants in our dataset. It's like adjusting the focus so we can see both the pebbles and the boulders without the boulders completely blurring everything else.\n",
        "\n",
        "\n",
        "\n"
      ],
      "metadata": {
        "id": "x-0JE_AtyhgC"
      }
    },
    {
      "cell_type": "markdown",
      "source": [
        "# 1. Import necessary libraries"
      ],
      "metadata": {
        "id": "SYzCD1DRzhiE"
      }
    },
    {
      "cell_type": "code",
      "source": [
        "import numpy as np\n",
        "import pandas as pd\n",
        "import matplotlib.pyplot as plt\n",
        "import seaborn as sns"
      ],
      "metadata": {
        "id": "E_RYQmPReUMk"
      },
      "execution_count": 101,
      "outputs": []
    },
    {
      "cell_type": "markdown",
      "source": [
        "# 2. Create dataset"
      ],
      "metadata": {
        "id": "TP65ZUW56IIb"
      }
    },
    {
      "cell_type": "code",
      "source": [
        "# 1. Real-life Example: Population Density of Cities (People per sq km)\n",
        "\n",
        "# Imagine you have data on the population density of various cities.\n",
        "# This data can have a wide range, with some sparsely populated areas and a few\n",
        "# extremely densely populated megacities.\n",
        "\n",
        "population_density = [\n",
        "    1500, 2200, 1800, 3000, 2500, 1000, 500, 6000, 4500, 1200,\n",
        "    2000, 2800, 1600, 3500, 2100, 800, 700, 12000, 9000, 1500,\n",
        "    2500, 3100, 1900, 4000, 2700, 1100, 900, 18000, 7500, 2200,\n",
        "    3000, 2600, 1400, 4200, 2300, 1300, 600, 24000, 5000, 1800,\n",
        "    # Imagine more cities with densities in the thousands\n",
        "]"
      ],
      "metadata": {
        "id": "O53jDsBoebsl"
      },
      "execution_count": 102,
      "outputs": []
    },
    {
      "cell_type": "markdown",
      "source": [
        "# 3. Add skewed datapoints to the dataset"
      ],
      "metadata": {
        "id": "qwekFQ516NEk"
      }
    },
    {
      "cell_type": "code",
      "source": [
        "# Let's add some megacities with very high population densities\n",
        "population_density += [50000, 100000, 250000, 800000]"
      ],
      "metadata": {
        "id": "_l-REh3jefbp"
      },
      "execution_count": 103,
      "outputs": []
    },
    {
      "cell_type": "code",
      "source": [
        "# Create a Pandas Series\n",
        "population_density_original = pd.Series(population_density + list(np.random.randint(500, 10000, 90)) + list(np.random.randint(10000, 50000, 10)),name='Original Population Density')"
      ],
      "metadata": {
        "id": "668pVzSKek41"
      },
      "execution_count": 104,
      "outputs": []
    },
    {
      "cell_type": "markdown",
      "source": [
        "# 4. Visualize the Population Density"
      ],
      "metadata": {
        "id": "EhckIfcL6aFQ"
      }
    },
    {
      "cell_type": "code",
      "source": [
        "# Visualize the original distribution\n",
        "plt.figure(figsize=(15, 8))\n",
        "plt.subplot(1, 2, 1)\n",
        "sns.histplot(population_density_original, kde=True , color = 'Red')\n",
        "plt.title('Original Population Density Distribution (People/sq km)')\n",
        "plt.xlabel('Population Density')\n",
        "plt.ylabel('Frequency')\n",
        "\n",
        "plt.tight_layout()\n",
        "plt.show()"
      ],
      "metadata": {
        "colab": {
          "base_uri": "https://localhost:8080/",
          "height": 807
        },
        "id": "msKLqfexeoaJ",
        "outputId": "97cf0787-b159-4e92-aef4-b2e2fd990ddf"
      },
      "execution_count": 105,
      "outputs": [
        {
          "output_type": "display_data",
          "data": {
            "text/plain": [
              "<Figure size 1500x800 with 1 Axes>"
            ],
            "image/png": "[encoded data removed]"
          },
          "metadata": {}
        }
      ]
    },
    {
      "cell_type": "markdown",
      "source": [
        "Most values are lesser than 100000"
      ],
      "metadata": {
        "id": "sBwyqOo-60e9"
      }
    },
    {
      "cell_type": "code",
      "source": [
        "# Visualize till 1 lakh\n",
        "plt.figure(figsize=(15, 8))\n",
        "plt.subplot(1, 2, 1)\n",
        "sns.histplot(population_density_original, kde=True , color='Red')\n",
        "plt.title('Original Population Density Distribution (People/sq km)')\n",
        "plt.xlabel('Population Density')\n",
        "plt.ylabel('Frequency')\n",
        "plt.xlim(0, 100000)  # Adjust this limit as needed based on your data\n",
        "plt.tight_layout()\n",
        "plt.show()"
      ],
      "metadata": {
        "colab": {
          "base_uri": "https://localhost:8080/",
          "height": 807
        },
        "id": "nlMS50w8NASH",
        "outputId": "d5bc325d-2a06-440f-a341-656245cb0f2e"
      },
      "execution_count": 106,
      "outputs": [
        {
          "output_type": "display_data",
          "data": {
            "text/plain": [
              "<Figure size 1500x800 with 1 Axes>"
            ],
            "image/png": "[encoded data removed]"
          },
          "metadata": {}
        }
      ]
    },
    {
      "cell_type": "markdown",
      "source": [
        "# 5. Feature transformation using cube root transformation"
      ],
      "metadata": {
        "id": "xnq5AQOL64pb"
      }
    },
    {
      "cell_type": "code",
      "source": [
        "# Apply Cube Root Transformation (using numpy.cbrt)\n",
        "population_density_cbrt = np.cbrt(population_density_original)"
      ],
      "metadata": {
        "id": "bzv4wXW6NU4p"
      },
      "execution_count": 107,
      "outputs": []
    },
    {
      "cell_type": "code",
      "source": [
        "cbrt_transformed_density = pd.Series(population_density_cbrt, name='cbrt of population density')"
      ],
      "metadata": {
        "id": "P9No1aTI-Wk0"
      },
      "execution_count": 108,
      "outputs": []
    },
    {
      "cell_type": "markdown",
      "source": [
        "# 6. Visualize the Square root transformed feature"
      ],
      "metadata": {
        "id": "m4P0Y2Fk7Ah2"
      }
    },
    {
      "cell_type": "code",
      "source": [
        "# Visualize the transformed distribution\n",
        "plt.figure(figsize=(15, 8))\n",
        "plt.subplot(1, 2, 2)\n",
        "sns.histplot(cbrt_transformed_density, kde=True , color='Red')\n",
        "plt.title('cbrt Transformed Population Density Distribution (People/sq km)')\n",
        "plt.xlabel('Population Density')\n",
        "plt.ylabel('Frequency')\n",
        "\n",
        "plt.tight_layout()\n",
        "plt.show()"
      ],
      "metadata": {
        "colab": {
          "base_uri": "https://localhost:8080/",
          "height": 807
        },
        "id": "OTnfOW6B4hCm",
        "outputId": "68dbef19-b7a5-4a01-d5a2-18ada9182d4b"
      },
      "execution_count": 109,
      "outputs": [
        {
          "output_type": "display_data",
          "data": {
            "text/plain": [
              "<Figure size 1500x800 with 1 Axes>"
            ],
            "image/png": "[encoded data removed]"
          },
          "metadata": {}
        }
      ]
    },
    {
      "cell_type": "markdown",
      "source": [
        "Inference : The cube root transformation has likely made the distribution of population density less skewed and potentially closer to a normal distribution by compressing the higher values."
      ],
      "metadata": {
        "id": "ZxmktbuY7erM"
      }
    },
    {
      "cell_type": "markdown",
      "source": [
        "Mathematical Form: y' = y^(1/3)\n",
        "\n",
        "When to Use:\n",
        "\n",
        "1. Data with Both Positive and Negative Values: Unlike log and square root, the cube root is defined for both positive and negative numbers.\n",
        "2. Reducing Skewness (including left skew to some extent): Can handle more severe skewness than the square root but less than the log for positive data. 3. It can also help with left-skewed data by stretching the lower tail.\n",
        "\n",
        "How it Helps:\n",
        "\n",
        "1. Reducing Skewness: Makes the distribution more symmetric.\n",
        "2. Can Handle Negative Values: A key advantage over log and square root when dealing with data that can be negative.\n",
        "\n",
        "Important Considerations:\n",
        "\n",
        "Interpretation: Interpretation remains in a transformed scale."
      ],
      "metadata": {
        "id": "31gaIY7l5MIc"
      }
    },
    {
      "cell_type": "markdown",
      "source": [
        "# 7. Comparing the 2 columns"
      ],
      "metadata": {
        "id": "QdFeI_XX8NkL"
      }
    },
    {
      "cell_type": "code",
      "source": [
        "# Create DataFrame using pd.concat()\n",
        "df_concat = pd.concat([population_density_original, cbrt_transformed_density], axis=1 )\n",
        "df_concat"
      ],
      "metadata": {
        "colab": {
          "base_uri": "https://localhost:8080/",
          "height": 424
        },
        "id": "XwME-x5F4ndE",
        "outputId": "5ee74fd2-9aaf-4044-d7b3-e5eeeb597d7b"
      },
      "execution_count": 110,
      "outputs": [
        {
          "output_type": "execute_result",
          "data": {
            "text/plain": [
              "     Original Population Density  cbrt of population density\n",
              "0                           1500                   11.447142\n",
              "1                           2200                   13.005914\n",
              "2                           1800                   12.164404\n",
              "3                           3000                   14.422496\n",
              "4                           2500                   13.572088\n",
              "..                           ...                         ...\n",
              "139                        32699                   31.977523\n",
              "140                        32371                   31.870243\n",
              "141                        34525                   32.562012\n",
              "142                        30624                   31.286283\n",
              "143                        13428                   23.768610\n",
              "\n",
              "[144 rows x 2 columns]"
            ],
            "text/html": [
              "\n",
              "  <div id=\"df-68232b03-0de8-412d-8bc3-73b7a93169ed\" class=\"colab-df-container\">\n",
              "    <div>\n",
              "<style scoped>\n",
              "    .dataframe tbody tr th:only-of-type {\n",
              "        vertical-align: middle;\n",
              "    }\n",
              "\n",
              "    .dataframe tbody tr th {\n",
              "        vertical-align: top;\n",
              "    }\n",
              "\n",
              "    .dataframe thead th {\n",
              "        text-align: right;\n",
              "    }\n",
              "</style>\n",
              "<table border=\"1\" class=\"dataframe\">\n",
              "  <thead>\n",
              "    <tr style=\"text-align: right;\">\n",
              "      <th></th>\n",
              "      <th>Original Population Density</th>\n",
              "      <th>cbrt of population density</th>\n",
              "    </tr>\n",
              "  </thead>\n",
              "  <tbody>\n",
              "    <tr>\n",
              "      <th>0</th>\n",
              "      <td>1500</td>\n",
              "      <td>11.447142</td>\n",
              "    </tr>\n",
              "    <tr>\n",
              "      <th>1</th>\n",
              "      <td>2200</td>\n",
              "      <td>13.005914</td>\n",
              "    </tr>\n",
              "    <tr>\n",
              "      <th>2</th>\n",
              "      <td>1800</td>\n",
              "      <td>12.164404</td>\n",
              "    </tr>\n",
              "    <tr>\n",
              "      <th>3</th>\n",
              "      <td>3000</td>\n",
              "      <td>14.422496</td>\n",
              "    </tr>\n",
              "    <tr>\n",
              "      <th>4</th>\n",
              "      <td>2500</td>\n",
              "      <td>13.572088</td>\n",
              "    </tr>\n",
              "    <tr>\n",
              "      <th>...</th>\n",
              "      <td>...</td>\n",
              "      <td>...</td>\n",
              "    </tr>\n",
              "    <tr>\n",
              "      <th>139</th>\n",
              "      <td>32699</td>\n",
              "      <td>31.977523</td>\n",
              "    </tr>\n",
              "    <tr>\n",
              "      <th>140</th>\n",
              "      <td>32371</td>\n",
              "      <td>31.870243</td>\n",
              "    </tr>\n",
              "    <tr>\n",
              "      <th>141</th>\n",
              "      <td>34525</td>\n",
              "      <td>32.562012</td>\n",
              "    </tr>\n",
              "    <tr>\n",
              "      <th>142</th>\n",
              "      <td>30624</td>\n",
              "      <td>31.286283</td>\n",
              "    </tr>\n",
              "    <tr>\n",
              "      <th>143</th>\n",
              "      <td>13428</td>\n",
              "      <td>23.768610</td>\n",
              "    </tr>\n",
              "  </tbody>\n",
              "</table>\n",
              "<p>144 rows × 2 columns</p>\n",
              "</div>\n",
              "    <div class=\"colab-df-buttons\">\n",
              "\n",
              "  <div class=\"colab-df-container\">\n",
              "    <button class=\"colab-df-convert\" onclick=\"convertToInteractive('df-68232b03-0de8-412d-8bc3-73b7a93169ed')\"\n",
              "            title=\"Convert this dataframe to an interactive table.\"\n",
              "            style=\"display:none;\">\n",
              "\n",
              "  <svg xmlns=\"http://www.w3.org/2000/svg\" height=\"24px\" viewBox=\"0 -960 960 960\">\n",
              "    <path d=\"M120-120v-720h720v720H120Zm60-500h600v-160H180v160Zm220 220h160v-160H400v160Zm0 220h160v-160H400v160ZM180-400h160v-160H180v160Zm440 0h160v-160H620v160ZM180-180h160v-160H180v160Zm440 0h160v-160H620v160Z\"/>\n",
              "  </svg>\n",
              "    </button>\n",
              "\n",
              "  <style>\n",
              "    .colab-df-container {\n",
              "      display:flex;\n",
              "      gap: 12px;\n",
              "    }\n",
              "\n",
              "    .colab-df-convert {\n",
              "      background-color: #E8F0FE;\n",
              "      border: none;\n",
              "      border-radius: 50%;\n",
              "      cursor: pointer;\n",
              "      display: none;\n",
              "      fill: #1967D2;\n",
              "      height: 32px;\n",
              "      padding: 0 0 0 0;\n",
              "      width: 32px;\n",
              "    }\n",
              "\n",
              "    .colab-df-convert:hover {\n",
              "      background-color: #E2EBFA;\n",
              "      box-shadow: 0px 1px 2px rgba(60, 64, 67, 0.3), 0px 1px 3px 1px rgba(60, 64, 67, 0.15);\n",
              "      fill: #174EA6;\n",
              "    }\n",
              "\n",
              "    .colab-df-buttons div {\n",
              "      margin-bottom: 4px;\n",
              "    }\n",
              "\n",
              "    [theme=dark] .colab-df-convert {\n",
              "      background-color: #3B4455;\n",
              "      fill: #D2E3FC;\n",
              "    }\n",
              "\n",
              "    [theme=dark] .colab-df-convert:hover {\n",
              "      background-color: #434B5C;\n",
              "      box-shadow: 0px 1px 3px 1px rgba(0, 0, 0, 0.15);\n",
              "      filter: drop-shadow(0px 1px 2px rgba(0, 0, 0, 0.3));\n",
              "      fill: #FFFFFF;\n",
              "    }\n",
              "  </style>\n",
              "\n",
              "    <script>\n",
              "      const buttonEl =\n",
              "        document.querySelector('#df-68232b03-0de8-412d-8bc3-73b7a93169ed button.colab-df-convert');\n",
              "      buttonEl.style.display =\n",
              "        google.colab.kernel.accessAllowed ? 'block' : 'none';\n",
              "\n",
              "      async function convertToInteractive(key) {\n",
              "        const element = document.querySelector('#df-68232b03-0de8-412d-8bc3-73b7a93169ed');\n",
              "        const dataTable =\n",
              "          await google.colab.kernel.invokeFunction('convertToInteractive',\n",
              "                                                    [key], {});\n",
              "        if (!dataTable) return;\n",
              "\n",
              "        const docLinkHtml = 'Like what you see? Visit the ' +\n",
              "          '<a target=\"_blank\" href=https://colab.research.google.com/notebooks/data_table.ipynb>data table notebook</a>'\n",
              "          + ' to learn more about interactive tables.';\n",
              "        element.innerHTML = '';\n",
              "        dataTable['output_type'] = 'display_data';\n",
              "        await google.colab.output.renderOutput(dataTable, element);\n",
              "        const docLink = document.createElement('div');\n",
              "        docLink.innerHTML = docLinkHtml;\n",
              "        element.appendChild(docLink);\n",
              "      }\n",
              "    </script>\n",
              "  </div>\n",
              "\n",
              "\n",
              "<div id=\"df-b610108c-dcec-4eef-81cf-1657b4c899e2\">\n",
              "  <button class=\"colab-df-quickchart\" onclick=\"quickchart('df-b610108c-dcec-4eef-81cf-1657b4c899e2')\"\n",
              "            title=\"Suggest charts\"\n",
              "            style=\"display:none;\">\n",
              "\n",
              "<svg xmlns=\"http://www.w3.org/2000/svg\" height=\"24px\"viewBox=\"0 0 24 24\"\n",
              "     width=\"24px\">\n",
              "    <g>\n",
              "        <path d=\"M19 3H5c-1.1 0-2 .9-2 2v14c0 1.1.9 2 2 2h14c1.1 0 2-.9 2-2V5c0-1.1-.9-2-2-2zM9 17H7v-7h2v7zm4 0h-2V7h2v10zm4 0h-2v-4h2v4z\"/>\n",
              "    </g>\n",
              "</svg>\n",
              "  </button>\n",
              "\n",
              "<style>\n",
              "  .colab-df-quickchart {\n",
              "      --bg-color: #E8F0FE;\n",
              "      --fill-color: #1967D2;\n",
              "      --hover-bg-color: #E2EBFA;\n",
              "      --hover-fill-color: #174EA6;\n",
              "      --disabled-fill-color: #AAA;\n",
              "      --disabled-bg-color: #DDD;\n",
              "  }\n",
              "\n",
              "  [theme=dark] .colab-df-quickchart {\n",
              "      --bg-color: #3B4455;\n",
              "      --fill-color: #D2E3FC;\n",
              "      --hover-bg-color: #434B5C;\n",
              "      --hover-fill-color: #FFFFFF;\n",
              "      --disabled-bg-color: #3B4455;\n",
              "      --disabled-fill-color: #666;\n",
              "  }\n",
              "\n",
              "  .colab-df-quickchart {\n",
              "    background-color: var(--bg-color);\n",
              "    border: none;\n",
              "    border-radius: 50%;\n",
              "    cursor: pointer;\n",
              "    display: none;\n",
              "    fill: var(--fill-color);\n",
              "    height: 32px;\n",
              "    padding: 0;\n",
              "    width: 32px;\n",
              "  }\n",
              "\n",
              "  .colab-df-quickchart:hover {\n",
              "    background-color: var(--hover-bg-color);\n",
              "    box-shadow: 0 1px 2px rgba(60, 64, 67, 0.3), 0 1px 3px 1px rgba(60, 64, 67, 0.15);\n",
              "    fill: var(--button-hover-fill-color);\n",
              "  }\n",
              "\n",
              "  .colab-df-quickchart-complete:disabled,\n",
              "  .colab-df-quickchart-complete:disabled:hover {\n",
              "    background-color: var(--disabled-bg-color);\n",
              "    fill: var(--disabled-fill-color);\n",
              "    box-shadow: none;\n",
              "  }\n",
              "\n",
              "  .colab-df-spinner {\n",
              "    border: 2px solid var(--fill-color);\n",
              "    border-color: transparent;\n",
              "    border-bottom-color: var(--fill-color);\n",
              "    animation:\n",
              "      spin 1s steps(1) infinite;\n",
              "  }\n",
              "\n",
              "  @keyframes spin {\n",
              "    0% {\n",
              "      border-color: transparent;\n",
              "      border-bottom-color: var(--fill-color);\n",
              "      border-left-color: var(--fill-color);\n",
              "    }\n",
              "    20% {\n",
              "      border-color: transparent;\n",
              "      border-left-color: var(--fill-color);\n",
              "      border-top-color: var(--fill-color);\n",
              "    }\n",
              "    30% {\n",
              "      border-color: transparent;\n",
              "      border-left-color: var(--fill-color);\n",
              "      border-top-color: var(--fill-color);\n",
              "      border-right-color: var(--fill-color);\n",
              "    }\n",
              "    40% {\n",
              "      border-color: transparent;\n",
              "      border-right-color: var(--fill-color);\n",
              "      border-top-color: var(--fill-color);\n",
              "    }\n",
              "    60% {\n",
              "      border-color: transparent;\n",
              "      border-right-color: var(--fill-color);\n",
              "    }\n",
              "    80% {\n",
              "      border-color: transparent;\n",
              "      border-right-color: var(--fill-color);\n",
              "      border-bottom-color: var(--fill-color);\n",
              "    }\n",
              "    90% {\n",
              "      border-color: transparent;\n",
              "      border-bottom-color: var(--fill-color);\n",
              "    }\n",
              "  }\n",
              "</style>\n",
              "\n",
              "  <script>\n",
              "    async function quickchart(key) {\n",
              "      const quickchartButtonEl =\n",
              "        document.querySelector('#' + key + ' button');\n",
              "      quickchartButtonEl.disabled = true;  // To prevent multiple clicks.\n",
              "      quickchartButtonEl.classList.add('colab-df-spinner');\n",
              "      try {\n",
              "        const charts = await google.colab.kernel.invokeFunction(\n",
              "            'suggestCharts', [key], {});\n",
              "      } catch (error) {\n",
              "        console.error('Error during call to suggestCharts:', error);\n",
              "      }\n",
              "      quickchartButtonEl.classList.remove('colab-df-spinner');\n",
              "      quickchartButtonEl.classList.add('colab-df-quickchart-complete');\n",
              "    }\n",
              "    (() => {\n",
              "      let quickchartButtonEl =\n",
              "        document.querySelector('#df-b610108c-dcec-4eef-81cf-1657b4c899e2 button');\n",
              "      quickchartButtonEl.style.display =\n",
              "        google.colab.kernel.accessAllowed ? 'block' : 'none';\n",
              "    })();\n",
              "  </script>\n",
              "</div>\n",
              "\n",
              "  <div id=\"id_06aad996-5364-4a76-9691-269cff1a8c3b\">\n",
              "    <style>\n",
              "      .colab-df-generate {\n",
              "        background-color: #E8F0FE;\n",
              "        border: none;\n",
              "        border-radius: 50%;\n",
              "        cursor: pointer;\n",
              "        display: none;\n",
              "        fill: #1967D2;\n",
              "        height: 32px;\n",
              "        padding: 0 0 0 0;\n",
              "        width: 32px;\n",
              "      }\n",
              "\n",
              "      .colab-df-generate:hover {\n",
              "        background-color: #E2EBFA;\n",
              "        box-shadow: 0px 1px 2px rgba(60, 64, 67, 0.3), 0px 1px 3px 1px rgba(60, 64, 67, 0.15);\n",
              "        fill: #174EA6;\n",
              "      }\n",
              "\n",
              "      [theme=dark] .colab-df-generate {\n",
              "        background-color: #3B4455;\n",
              "        fill: #D2E3FC;\n",
              "      }\n",
              "\n",
              "      [theme=dark] .colab-df-generate:hover {\n",
              "        background-color: #434B5C;\n",
              "        box-shadow: 0px 1px 3px 1px rgba(0, 0, 0, 0.15);\n",
              "        filter: drop-shadow(0px 1px 2px rgba(0, 0, 0, 0.3));\n",
              "        fill: #FFFFFF;\n",
              "      }\n",
              "    </style>\n",
              "    <button class=\"colab-df-generate\" onclick=\"generateWithVariable('df_concat')\"\n",
              "            title=\"Generate code using this dataframe.\"\n",
              "            style=\"display:none;\">\n",
              "\n",
              "  <svg xmlns=\"http://www.w3.org/2000/svg\" height=\"24px\"viewBox=\"0 0 24 24\"\n",
              "       width=\"24px\">\n",
              "    <path d=\"M7,19H8.4L18.45,9,17,7.55,7,17.6ZM5,21V16.75L18.45,3.32a2,2,0,0,1,2.83,0l1.4,1.43a1.91,1.91,0,0,1,.58,1.4,1.91,1.91,0,0,1-.58,1.4L9.25,21ZM18.45,9,17,7.55Zm-12,3A5.31,5.31,0,0,0,4.9,8.1,5.31,5.31,0,0,0,1,6.5,5.31,5.31,0,0,0,4.9,4.9,5.31,5.31,0,0,0,6.5,1,5.31,5.31,0,0,0,8.1,4.9,5.31,5.31,0,0,0,12,6.5,5.46,5.46,0,0,0,6.5,12Z\"/>\n",
              "  </svg>\n",
              "    </button>\n",
              "    <script>\n",
              "      (() => {\n",
              "      const buttonEl =\n",
              "        document.querySelector('#id_06aad996-5364-4a76-9691-269cff1a8c3b button.colab-df-generate');\n",
              "      buttonEl.style.display =\n",
              "        google.colab.kernel.accessAllowed ? 'block' : 'none';\n",
              "\n",
              "      buttonEl.onclick = () => {\n",
              "        google.colab.notebook.generateWithVariable('df_concat');\n",
              "      }\n",
              "      })();\n",
              "    </script>\n",
              "  </div>\n",
              "\n",
              "    </div>\n",
              "  </div>\n"
            ],
            "application/vnd.google.colaboratory.intrinsic+json": {
              "type": "dataframe",
              "variable_name": "df_concat",
              "summary": "{\n  \"name\": \"df_concat\",\n  \"rows\": 144,\n  \"fields\": [\n    {\n      \"column\": \"Original Population Density\",\n      \"properties\": {\n        \"dtype\": \"number\",\n        \"std\": 69853,\n        \"min\": 500,\n        \"max\": 800000,\n        \"num_unique_values\": 138,\n        \"samples\": [\n          3395,\n          2927,\n          1600\n        ],\n        \"semantic_type\": \"\",\n        \"description\": \"\"\n      }\n    },\n    {\n      \"column\": \"cbrt of population density\",\n      \"properties\": {\n        \"dtype\": \"number\",\n        \"std\": 9.573327432572897,\n        \"min\": 7.937005259840998,\n        \"max\": 92.83177667225557,\n        \"num_unique_values\": 138,\n        \"samples\": [\n          15.029571293891903,\n          14.304551341132946,\n          11.696070952851464\n        ],\n        \"semantic_type\": \"\",\n        \"description\": \"\"\n      }\n    }\n  ]\n}"
            }
          },
          "metadata": {},
          "execution_count": 110
        }
      ]
    },
    {
      "cell_type": "markdown",
      "source": [
        "So while considering in a model we should consider the 'cbrt of population density' column"
      ],
      "metadata": {
        "id": "b8ohb6u38SBo"
      }
    },
    {
      "cell_type": "code",
      "source": [],
      "metadata": {
        "id": "pahf2HKJ8J24"
      },
      "execution_count": null,
      "outputs": []
    }
  ]
}