{
  "nbformat": 4,
  "nbformat_minor": 0,
  "metadata": {
    "colab": {
      "provenance": []
    },
    "kernelspec": {
      "name": "python3",
      "display_name": "Python 3"
    },
    "language_info": {
      "name": "python"
    }
  },
  "cells": [
    {
      "cell_type": "markdown",
      "source": [
        "# Feature creation - Numerical features ( Feature Transformation )\n",
        "\n",
        "4. box-cox transformation\n",
        "\n",
        "Imagine you have a bunch of different sized balloons. Some are small, some are medium, and a few are really, really big. If you wanted to compare their sizes in a way that makes the differences between all of them clearer, especially if the really big balloons are making it hard to see the difference between the smaller ones, you might need a special way to measure them.\n",
        "\n",
        "Box-Cox transformation is like having a magical tool that can automatically figure out the best way to \"resize\" your data (like the balloons) so that it looks more balanced and easier to work with. It's not just one specific way to resize, like always taking the square root or the logarithm. Instead, it tries out different \"power\" transformations to find the one that makes your data look most like a nice, symmetrical bell curve (which is often easier for computer models to understand).\n",
        "\n",
        "Think of it as having a dial that you can turn. Turning it one way might be like taking the square root, turning it another way might be like taking the logarithm, and there are many other settings in between or even beyond. The Box-Cox process helps find the best setting on that dial for your specific data.\n",
        "\n",
        "Here's a simplified example with something like income levels in a community:\n",
        "\n",
        "Let's say you have the annual income (in thousands of Rupees) of several families:\n",
        "\n",
        "200\n",
        "\n",
        "300\n",
        "\n",
        "450\n",
        "\n",
        "600\n",
        "\n",
        "900\n",
        "\n",
        "1500\n",
        "\n",
        "5000 (a much higher income)\n",
        "\n",
        "If you plot these incomes, you might see a long tail towards the higher incomes.\n",
        "\n",
        "Now, if we apply the Box-Cox transformation, it might figure out that using a logarithm-like transformation (but perhaps with a slightly different \"power\") is the best way to make this income data look more balanced. The transformed incomes might look something like this (these are just illustrative):\n",
        "\n",
        "5.3\n",
        "\n",
        "5.7\n",
        "\n",
        "6.1\n",
        "\n",
        "6.4\n",
        "\n",
        "6.8\n",
        "\n",
        "7.3\n",
        "\n",
        "8.5\n",
        "\n",
        "Notice how the very large jump from 1500 to 5000 in the original incomes is now a smaller jump from 7.3 to 8.5 in the transformed data. The transformation has helped to reduce the impact of the very high income.\n",
        "\n",
        "Why is this useful?\n",
        "\n",
        "1. Makes data more \"normal\": Many statistical and machine learning models work best when the data follows a normal distribution (the bell curve shape). Box-Cox can often transform skewed data to be closer to normal.\n",
        "2. Stabilizes variance: Sometimes, the spread of your data might be different for low values compared to high values. Box-Cox can help make the spread more consistent across the range of the data.\n",
        "3. Improves the performance of some models: When data is more normally distributed and has stable variance, models like linear regression can make more reliable predictions.\n",
        "\n",
        "In simple terms, the Box-Cox transformation is like a smart data \"reshaper.\" It automatically tries different mathematical adjustments to make your numerical data look more balanced and well-behaved, which can be really helpful for understanding the data and building accurate computer models. It's like having a tailor who can alter your clothes to fit you perfectly, rather than just offering one-size-fits-all adjustments."
      ],
      "metadata": {
        "id": "x-0JE_AtyhgC"
      }
    },
    {
      "cell_type": "markdown",
      "source": [
        "# 1. Import necessary libraries"
      ],
      "metadata": {
        "id": "SYzCD1DRzhiE"
      }
    },
    {
      "cell_type": "code",
      "source": [
        "import numpy as np\n",
        "import pandas as pd\n",
        "import matplotlib.pyplot as plt\n",
        "import seaborn as sns\n",
        "from scipy import stats"
      ],
      "metadata": {
        "id": "E_RYQmPReUMk"
      },
      "execution_count": 111,
      "outputs": []
    },
    {
      "cell_type": "markdown",
      "source": [
        "# 2. Create dataset"
      ],
      "metadata": {
        "id": "TP65ZUW56IIb"
      }
    },
    {
      "cell_type": "code",
      "source": [
        "# 1. Real-life Example: Skewed Sales Data (in Thousands of Rupees)\n",
        "\n",
        "# Imagine you have sales data for a small business. It might be right-skewed\n",
        "# with many moderate sales and a few very high-value transactions.\n",
        "\n",
        "sales_data = [\n",
        "    15, 22, 18, 30, 25, 10, 5, 60, 45, 12,\n",
        "    20, 28, 16, 35, 21, 8, 7, 120, 90, 15,\n",
        "    25, 31, 19, 40, 27, 11, 9, 180, 75, 22,\n",
        "    30, 26, 14, 42, 23, 13, 6, 240, 50, 18,\n",
        "    # Imagine more moderate sales figures\n",
        "]"
      ],
      "metadata": {
        "id": "O53jDsBoebsl"
      },
      "execution_count": 112,
      "outputs": []
    },
    {
      "cell_type": "markdown",
      "source": [
        "# 3. Add skewed datapoints to the dataset"
      ],
      "metadata": {
        "id": "qwekFQ516NEk"
      }
    },
    {
      "cell_type": "code",
      "source": [
        "# Let's add some high-value sales to create stronger skewness\n",
        "sales_data += [350, 500, 750, 1200]"
      ],
      "metadata": {
        "id": "_l-REh3jefbp"
      },
      "execution_count": 113,
      "outputs": []
    },
    {
      "cell_type": "code",
      "source": [
        "# Create a Pandas Series\n",
        "sales_data_original = pd.Series(sales_data + list(np.random.randint(10, 80, 90)) + list(np.random.randint(80, 300, 10)),name='Original Sales Data')"
      ],
      "metadata": {
        "id": "668pVzSKek41"
      },
      "execution_count": 114,
      "outputs": []
    },
    {
      "cell_type": "markdown",
      "source": [
        "# 4. Visualize the Population Density"
      ],
      "metadata": {
        "id": "EhckIfcL6aFQ"
      }
    },
    {
      "cell_type": "code",
      "source": [
        "# Visualize the original distribution\n",
        "plt.figure(figsize=(15, 8))\n",
        "plt.subplot(1, 2, 1)\n",
        "sns.histplot(sales_data_original, kde=True , color='Red')\n",
        "plt.title('Original Sales Data Distribution (Thousands)')\n",
        "plt.xlabel('Sales (Thousands of Rupees)')\n",
        "plt.ylabel('Frequency')\n",
        "\n",
        "plt.tight_layout()\n",
        "plt.show()"
      ],
      "metadata": {
        "colab": {
          "base_uri": "https://localhost:8080/",
          "height": 807
        },
        "id": "msKLqfexeoaJ",
        "outputId": "23580d62-b88b-4273-aed6-e59fa484cec6"
      },
      "execution_count": 116,
      "outputs": [
        {
          "output_type": "display_data",
          "data": {
            "text/plain": [
              "<Figure size 1500x800 with 1 Axes>"
            ],
            "image/png": "[encoded data removed]"
          },
          "metadata": {}
        }
      ]
    },
    {
      "cell_type": "markdown",
      "source": [
        "The sales data distribution is heavily skewed to the right, indicating a large number of low sales values and a few very high sales values."
      ],
      "metadata": {
        "id": "j0zjaTi7R3wv"
      }
    },
    {
      "cell_type": "markdown",
      "source": [
        "# 5. Feature transformation using box-cox transformation"
      ],
      "metadata": {
        "id": "xnq5AQOL64pb"
      }
    },
    {
      "cell_type": "code",
      "source": [
        "# Apply Box-Cox Transformation\n",
        "# scipy.stats.boxcox returns the transformed data and the optimal lambda value\n",
        "transformed_sales, optimal_lambda = stats.boxcox(sales_data_original)"
      ],
      "metadata": {
        "id": "INhjgBgcSDAz"
      },
      "execution_count": 117,
      "outputs": []
    },
    {
      "cell_type": "code",
      "source": [
        "boxcox_transformed_sales = pd.Series(transformed_sales, name='Box-Cox Transformed Sales')"
      ],
      "metadata": {
        "id": "P9No1aTI-Wk0"
      },
      "execution_count": 119,
      "outputs": []
    },
    {
      "cell_type": "markdown",
      "source": [
        "# 6. Visualize the box-cox transformed feature"
      ],
      "metadata": {
        "id": "m4P0Y2Fk7Ah2"
      }
    },
    {
      "cell_type": "code",
      "source": [
        "# Visualize the transformed distribution\n",
        "plt.figure(figsize=(15, 8))\n",
        "plt.subplot(1, 2, 2)\n",
        "sns.histplot(boxcox_transformed_sales, kde=True , color='Red')\n",
        "plt.title('Box-Cox Transformed Sales Data Distribution')\n",
        "plt.xlabel('Box-Cox Transformed Sales')\n",
        "plt.ylabel('Frequency')\n",
        "\n",
        "plt.tight_layout()\n",
        "plt.show()"
      ],
      "metadata": {
        "colab": {
          "base_uri": "https://localhost:8080/",
          "height": 807
        },
        "id": "OTnfOW6B4hCm",
        "outputId": "4392bc83-d775-4dac-a6ad-16a70ae48af3"
      },
      "execution_count": 120,
      "outputs": [
        {
          "output_type": "display_data",
          "data": {
            "text/plain": [
              "<Figure size 1500x800 with 1 Axes>"
            ],
            "image/png": "[encoded data removed]"
          },
          "metadata": {}
        }
      ]
    },
    {
      "cell_type": "markdown",
      "source": [
        "Inference : The Box-Cox transformed sales data distribution appears more symmetrical and closer to a normal distribution compared to the original."
      ],
      "metadata": {
        "id": "ZxmktbuY7erM"
      }
    },
    {
      "cell_type": "markdown",
      "source": [
        "Mathematical Form:\n",
        "\n",
        "If λ ≠ 0: y' = (y^λ - 1) / λ\n",
        "\n",
        "If λ = 0: y' = ln(y)\n",
        "\n",
        "When to Use:\n",
        "\n",
        "1. When the Appropriate Transformation is Unknown: The Box-Cox transformation is a family of power transformations that includes log (when λ approaches 0) and can automatically suggest the optimal λ value to transform the data towards normality.\n",
        "2. To Achieve Normality and Stabilize Variance: It aims to find a transformation that simultaneously addresses both skewness and heteroscedasticity.\n",
        "\n",
        "How it Helps:\n",
        "\n",
        "1. Optimizes Transformation for Normality: Statistically determines the best power transformation to make the data as close to a normal distribution as possible.\n",
        "2. Comprehensive Approach: Considers a range of transformations, making it a flexible tool.\n",
        "\n",
        "Important Considerations:\n",
        "\n",
        "1. Positive Data Only: The standard Box-Cox formula requires positive data. Modifications exist for data with zeros or negative values.\n",
        "2. Parameter Estimation: The optimal λ is usually estimated from the data, which adds a step to the analysis.\n",
        "\n",
        "Interpretability: The resulting transformed variable might not have a straightforward intuitive interpretation depending on the estimated λ value."
      ],
      "metadata": {
        "id": "31gaIY7l5MIc"
      }
    },
    {
      "cell_type": "markdown",
      "source": [
        "# 7. Comparing the 2 columns"
      ],
      "metadata": {
        "id": "QdFeI_XX8NkL"
      }
    },
    {
      "cell_type": "code",
      "source": [
        "# Create DataFrame using pd.concat()\n",
        "df_concat = pd.concat([sales_data_original, boxcox_transformed_sales], axis=1 )\n",
        "df_concat"
      ],
      "metadata": {
        "colab": {
          "base_uri": "https://localhost:8080/",
          "height": 424
        },
        "id": "XwME-x5F4ndE",
        "outputId": "1bdb2093-2ebb-4f3c-f194-a764b419f256"
      },
      "execution_count": 121,
      "outputs": [
        {
          "output_type": "execute_result",
          "data": {
            "text/plain": [
              "     Original Sales Data  Box-Cox Transformed Sales\n",
              "0                     15                   2.083291\n",
              "1                     22                   2.295957\n",
              "2                     18                   2.186593\n",
              "3                     30                   2.456465\n",
              "4                     25                   2.363338\n",
              "..                   ...                        ...\n",
              "139                  169                   3.187483\n",
              "140                   94                   2.967573\n",
              "141                  179                   3.207658\n",
              "142                  151                   3.147269\n",
              "143                  198                   3.242499\n",
              "\n",
              "[144 rows x 2 columns]"
            ],
            "text/html": [
              "\n",
              "  <div id=\"df-f4caa2ac-00f8-41ab-806a-355a61f4b269\" class=\"colab-df-container\">\n",
              "    <div>\n",
              "<style scoped>\n",
              "    .dataframe tbody tr th:only-of-type {\n",
              "        vertical-align: middle;\n",
              "    }\n",
              "\n",
              "    .dataframe tbody tr th {\n",
              "        vertical-align: top;\n",
              "    }\n",
              "\n",
              "    .dataframe thead th {\n",
              "        text-align: right;\n",
              "    }\n",
              "</style>\n",
              "<table border=\"1\" class=\"dataframe\">\n",
              "  <thead>\n",
              "    <tr style=\"text-align: right;\">\n",
              "      <th></th>\n",
              "      <th>Original Sales Data</th>\n",
              "      <th>Box-Cox Transformed Sales</th>\n",
              "    </tr>\n",
              "  </thead>\n",
              "  <tbody>\n",
              "    <tr>\n",
              "      <th>0</th>\n",
              "      <td>15</td>\n",
              "      <td>2.083291</td>\n",
              "    </tr>\n",
              "    <tr>\n",
              "      <th>1</th>\n",
              "      <td>22</td>\n",
              "      <td>2.295957</td>\n",
              "    </tr>\n",
              "    <tr>\n",
              "      <th>2</th>\n",
              "      <td>18</td>\n",
              "      <td>2.186593</td>\n",
              "    </tr>\n",
              "    <tr>\n",
              "      <th>3</th>\n",
              "      <td>30</td>\n",
              "      <td>2.456465</td>\n",
              "    </tr>\n",
              "    <tr>\n",
              "      <th>4</th>\n",
              "      <td>25</td>\n",
              "      <td>2.363338</td>\n",
              "    </tr>\n",
              "    <tr>\n",
              "      <th>...</th>\n",
              "      <td>...</td>\n",
              "      <td>...</td>\n",
              "    </tr>\n",
              "    <tr>\n",
              "      <th>139</th>\n",
              "      <td>169</td>\n",
              "      <td>3.187483</td>\n",
              "    </tr>\n",
              "    <tr>\n",
              "      <th>140</th>\n",
              "      <td>94</td>\n",
              "      <td>2.967573</td>\n",
              "    </tr>\n",
              "    <tr>\n",
              "      <th>141</th>\n",
              "      <td>179</td>\n",
              "      <td>3.207658</td>\n",
              "    </tr>\n",
              "    <tr>\n",
              "      <th>142</th>\n",
              "      <td>151</td>\n",
              "      <td>3.147269</td>\n",
              "    </tr>\n",
              "    <tr>\n",
              "      <th>143</th>\n",
              "      <td>198</td>\n",
              "      <td>3.242499</td>\n",
              "    </tr>\n",
              "  </tbody>\n",
              "</table>\n",
              "<p>144 rows × 2 columns</p>\n",
              "</div>\n",
              "    <div class=\"colab-df-buttons\">\n",
              "\n",
              "  <div class=\"colab-df-container\">\n",
              "    <button class=\"colab-df-convert\" onclick=\"convertToInteractive('df-f4caa2ac-00f8-41ab-806a-355a61f4b269')\"\n",
              "            title=\"Convert this dataframe to an interactive table.\"\n",
              "            style=\"display:none;\">\n",
              "\n",
              "  <svg xmlns=\"http://www.w3.org/2000/svg\" height=\"24px\" viewBox=\"0 -960 960 960\">\n",
              "    <path d=\"M120-120v-720h720v720H120Zm60-500h600v-160H180v160Zm220 220h160v-160H400v160Zm0 220h160v-160H400v160ZM180-400h160v-160H180v160Zm440 0h160v-160H620v160ZM180-180h160v-160H180v160Zm440 0h160v-160H620v160Z\"/>\n",
              "  </svg>\n",
              "    </button>\n",
              "\n",
              "  <style>\n",
              "    .colab-df-container {\n",
              "      display:flex;\n",
              "      gap: 12px;\n",
              "    }\n",
              "\n",
              "    .colab-df-convert {\n",
              "      background-color: #E8F0FE;\n",
              "      border: none;\n",
              "      border-radius: 50%;\n",
              "      cursor: pointer;\n",
              "      display: none;\n",
              "      fill: #1967D2;\n",
              "      height: 32px;\n",
              "      padding: 0 0 0 0;\n",
              "      width: 32px;\n",
              "    }\n",
              "\n",
              "    .colab-df-convert:hover {\n",
              "      background-color: #E2EBFA;\n",
              "      box-shadow: 0px 1px 2px rgba(60, 64, 67, 0.3), 0px 1px 3px 1px rgba(60, 64, 67, 0.15);\n",
              "      fill: #174EA6;\n",
              "    }\n",
              "\n",
              "    .colab-df-buttons div {\n",
              "      margin-bottom: 4px;\n",
              "    }\n",
              "\n",
              "    [theme=dark] .colab-df-convert {\n",
              "      background-color: #3B4455;\n",
              "      fill: #D2E3FC;\n",
              "    }\n",
              "\n",
              "    [theme=dark] .colab-df-convert:hover {\n",
              "      background-color: #434B5C;\n",
              "      box-shadow: 0px 1px 3px 1px rgba(0, 0, 0, 0.15);\n",
              "      filter: drop-shadow(0px 1px 2px rgba(0, 0, 0, 0.3));\n",
              "      fill: #FFFFFF;\n",
              "    }\n",
              "  </style>\n",
              "\n",
              "    <script>\n",
              "      const buttonEl =\n",
              "        document.querySelector('#df-f4caa2ac-00f8-41ab-806a-355a61f4b269 button.colab-df-convert');\n",
              "      buttonEl.style.display =\n",
              "        google.colab.kernel.accessAllowed ? 'block' : 'none';\n",
              "\n",
              "      async function convertToInteractive(key) {\n",
              "        const element = document.querySelector('#df-f4caa2ac-00f8-41ab-806a-355a61f4b269');\n",
              "        const dataTable =\n",
              "          await google.colab.kernel.invokeFunction('convertToInteractive',\n",
              "                                                    [key], {});\n",
              "        if (!dataTable) return;\n",
              "\n",
              "        const docLinkHtml = 'Like what you see? Visit the ' +\n",
              "          '<a target=\"_blank\" href=https://colab.research.google.com/notebooks/data_table.ipynb>data table notebook</a>'\n",
              "          + ' to learn more about interactive tables.';\n",
              "        element.innerHTML = '';\n",
              "        dataTable['output_type'] = 'display_data';\n",
              "        await google.colab.output.renderOutput(dataTable, element);\n",
              "        const docLink = document.createElement('div');\n",
              "        docLink.innerHTML = docLinkHtml;\n",
              "        element.appendChild(docLink);\n",
              "      }\n",
              "    </script>\n",
              "  </div>\n",
              "\n",
              "\n",
              "<div id=\"df-f77e5aba-929d-46cd-adfc-16117d90c042\">\n",
              "  <button class=\"colab-df-quickchart\" onclick=\"quickchart('df-f77e5aba-929d-46cd-adfc-16117d90c042')\"\n",
              "            title=\"Suggest charts\"\n",
              "            style=\"display:none;\">\n",
              "\n",
              "<svg xmlns=\"http://www.w3.org/2000/svg\" height=\"24px\"viewBox=\"0 0 24 24\"\n",
              "     width=\"24px\">\n",
              "    <g>\n",
              "        <path d=\"M19 3H5c-1.1 0-2 .9-2 2v14c0 1.1.9 2 2 2h14c1.1 0 2-.9 2-2V5c0-1.1-.9-2-2-2zM9 17H7v-7h2v7zm4 0h-2V7h2v10zm4 0h-2v-4h2v4z\"/>\n",
              "    </g>\n",
              "</svg>\n",
              "  </button>\n",
              "\n",
              "<style>\n",
              "  .colab-df-quickchart {\n",
              "      --bg-color: #E8F0FE;\n",
              "      --fill-color: #1967D2;\n",
              "      --hover-bg-color: #E2EBFA;\n",
              "      --hover-fill-color: #174EA6;\n",
              "      --disabled-fill-color: #AAA;\n",
              "      --disabled-bg-color: #DDD;\n",
              "  }\n",
              "\n",
              "  [theme=dark] .colab-df-quickchart {\n",
              "      --bg-color: #3B4455;\n",
              "      --fill-color: #D2E3FC;\n",
              "      --hover-bg-color: #434B5C;\n",
              "      --hover-fill-color: #FFFFFF;\n",
              "      --disabled-bg-color: #3B4455;\n",
              "      --disabled-fill-color: #666;\n",
              "  }\n",
              "\n",
              "  .colab-df-quickchart {\n",
              "    background-color: var(--bg-color);\n",
              "    border: none;\n",
              "    border-radius: 50%;\n",
              "    cursor: pointer;\n",
              "    display: none;\n",
              "    fill: var(--fill-color);\n",
              "    height: 32px;\n",
              "    padding: 0;\n",
              "    width: 32px;\n",
              "  }\n",
              "\n",
              "  .colab-df-quickchart:hover {\n",
              "    background-color: var(--hover-bg-color);\n",
              "    box-shadow: 0 1px 2px rgba(60, 64, 67, 0.3), 0 1px 3px 1px rgba(60, 64, 67, 0.15);\n",
              "    fill: var(--button-hover-fill-color);\n",
              "  }\n",
              "\n",
              "  .colab-df-quickchart-complete:disabled,\n",
              "  .colab-df-quickchart-complete:disabled:hover {\n",
              "    background-color: var(--disabled-bg-color);\n",
              "    fill: var(--disabled-fill-color);\n",
              "    box-shadow: none;\n",
              "  }\n",
              "\n",
              "  .colab-df-spinner {\n",
              "    border: 2px solid var(--fill-color);\n",
              "    border-color: transparent;\n",
              "    border-bottom-color: var(--fill-color);\n",
              "    animation:\n",
              "      spin 1s steps(1) infinite;\n",
              "  }\n",
              "\n",
              "  @keyframes spin {\n",
              "    0% {\n",
              "      border-color: transparent;\n",
              "      border-bottom-color: var(--fill-color);\n",
              "      border-left-color: var(--fill-color);\n",
              "    }\n",
              "    20% {\n",
              "      border-color: transparent;\n",
              "      border-left-color: var(--fill-color);\n",
              "      border-top-color: var(--fill-color);\n",
              "    }\n",
              "    30% {\n",
              "      border-color: transparent;\n",
              "      border-left-color: var(--fill-color);\n",
              "      border-top-color: var(--fill-color);\n",
              "      border-right-color: var(--fill-color);\n",
              "    }\n",
              "    40% {\n",
              "      border-color: transparent;\n",
              "      border-right-color: var(--fill-color);\n",
              "      border-top-color: var(--fill-color);\n",
              "    }\n",
              "    60% {\n",
              "      border-color: transparent;\n",
              "      border-right-color: var(--fill-color);\n",
              "    }\n",
              "    80% {\n",
              "      border-color: transparent;\n",
              "      border-right-color: var(--fill-color);\n",
              "      border-bottom-color: var(--fill-color);\n",
              "    }\n",
              "    90% {\n",
              "      border-color: transparent;\n",
              "      border-bottom-color: var(--fill-color);\n",
              "    }\n",
              "  }\n",
              "</style>\n",
              "\n",
              "  <script>\n",
              "    async function quickchart(key) {\n",
              "      const quickchartButtonEl =\n",
              "        document.querySelector('#' + key + ' button');\n",
              "      quickchartButtonEl.disabled = true;  // To prevent multiple clicks.\n",
              "      quickchartButtonEl.classList.add('colab-df-spinner');\n",
              "      try {\n",
              "        const charts = await google.colab.kernel.invokeFunction(\n",
              "            'suggestCharts', [key], {});\n",
              "      } catch (error) {\n",
              "        console.error('Error during call to suggestCharts:', error);\n",
              "      }\n",
              "      quickchartButtonEl.classList.remove('colab-df-spinner');\n",
              "      quickchartButtonEl.classList.add('colab-df-quickchart-complete');\n",
              "    }\n",
              "    (() => {\n",
              "      let quickchartButtonEl =\n",
              "        document.querySelector('#df-f77e5aba-929d-46cd-adfc-16117d90c042 button');\n",
              "      quickchartButtonEl.style.display =\n",
              "        google.colab.kernel.accessAllowed ? 'block' : 'none';\n",
              "    })();\n",
              "  </script>\n",
              "</div>\n",
              "\n",
              "  <div id=\"id_2431b768-a146-4886-a17a-42413531cd5c\">\n",
              "    <style>\n",
              "      .colab-df-generate {\n",
              "        background-color: #E8F0FE;\n",
              "        border: none;\n",
              "        border-radius: 50%;\n",
              "        cursor: pointer;\n",
              "        display: none;\n",
              "        fill: #1967D2;\n",
              "        height: 32px;\n",
              "        padding: 0 0 0 0;\n",
              "        width: 32px;\n",
              "      }\n",
              "\n",
              "      .colab-df-generate:hover {\n",
              "        background-color: #E2EBFA;\n",
              "        box-shadow: 0px 1px 2px rgba(60, 64, 67, 0.3), 0px 1px 3px 1px rgba(60, 64, 67, 0.15);\n",
              "        fill: #174EA6;\n",
              "      }\n",
              "\n",
              "      [theme=dark] .colab-df-generate {\n",
              "        background-color: #3B4455;\n",
              "        fill: #D2E3FC;\n",
              "      }\n",
              "\n",
              "      [theme=dark] .colab-df-generate:hover {\n",
              "        background-color: #434B5C;\n",
              "        box-shadow: 0px 1px 3px 1px rgba(0, 0, 0, 0.15);\n",
              "        filter: drop-shadow(0px 1px 2px rgba(0, 0, 0, 0.3));\n",
              "        fill: #FFFFFF;\n",
              "      }\n",
              "    </style>\n",
              "    <button class=\"colab-df-generate\" onclick=\"generateWithVariable('df_concat')\"\n",
              "            title=\"Generate code using this dataframe.\"\n",
              "            style=\"display:none;\">\n",
              "\n",
              "  <svg xmlns=\"http://www.w3.org/2000/svg\" height=\"24px\"viewBox=\"0 0 24 24\"\n",
              "       width=\"24px\">\n",
              "    <path d=\"M7,19H8.4L18.45,9,17,7.55,7,17.6ZM5,21V16.75L18.45,3.32a2,2,0,0,1,2.83,0l1.4,1.43a1.91,1.91,0,0,1,.58,1.4,1.91,1.91,0,0,1-.58,1.4L9.25,21ZM18.45,9,17,7.55Zm-12,3A5.31,5.31,0,0,0,4.9,8.1,5.31,5.31,0,0,0,1,6.5,5.31,5.31,0,0,0,4.9,4.9,5.31,5.31,0,0,0,6.5,1,5.31,5.31,0,0,0,8.1,4.9,5.31,5.31,0,0,0,12,6.5,5.46,5.46,0,0,0,6.5,12Z\"/>\n",
              "  </svg>\n",
              "    </button>\n",
              "    <script>\n",
              "      (() => {\n",
              "      const buttonEl =\n",
              "        document.querySelector('#id_2431b768-a146-4886-a17a-42413531cd5c button.colab-df-generate');\n",
              "      buttonEl.style.display =\n",
              "        google.colab.kernel.accessAllowed ? 'block' : 'none';\n",
              "\n",
              "      buttonEl.onclick = () => {\n",
              "        google.colab.notebook.generateWithVariable('df_concat');\n",
              "      }\n",
              "      })();\n",
              "    </script>\n",
              "  </div>\n",
              "\n",
              "    </div>\n",
              "  </div>\n"
            ],
            "application/vnd.google.colaboratory.intrinsic+json": {
              "type": "dataframe",
              "variable_name": "df_concat",
              "summary": "{\n  \"name\": \"df_concat\",\n  \"rows\": 144,\n  \"fields\": [\n    {\n      \"column\": \"Original Sales Data\",\n      \"properties\": {\n        \"dtype\": \"number\",\n        \"std\": 129,\n        \"min\": 5,\n        \"max\": 1200,\n        \"num_unique_values\": 81,\n        \"samples\": [\n          23,\n          15,\n          27\n        ],\n        \"semantic_type\": \"\",\n        \"description\": \"\"\n      }\n    },\n    {\n      \"column\": \"Box-Cox Transformed Sales\",\n      \"properties\": {\n        \"dtype\": \"number\",\n        \"std\": 0.4089511957790499,\n        \"min\": 1.3729851396786816,\n        \"max\": 3.758365257917301,\n        \"num_unique_values\": 81,\n        \"samples\": [\n          2.3195862901667588,\n          2.083291340676263,\n          2.403069633861708\n        ],\n        \"semantic_type\": \"\",\n        \"description\": \"\"\n      }\n    }\n  ]\n}"
            }
          },
          "metadata": {},
          "execution_count": 121
        }
      ]
    },
    {
      "cell_type": "markdown",
      "source": [
        "So while considering in a model we should consider the 'Box-Cox Transformed Sales' column"
      ],
      "metadata": {
        "id": "b8ohb6u38SBo"
      }
    },
    {
      "cell_type": "code",
      "source": [],
      "metadata": {
        "id": "pahf2HKJ8J24"
      },
      "execution_count": null,
      "outputs": []
    }
  ]
}