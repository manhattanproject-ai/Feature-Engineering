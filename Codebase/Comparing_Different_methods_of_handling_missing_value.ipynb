{
  "cells": [
    {
      "cell_type": "markdown",
      "source": [
        "# Comparing Different methods of handling missing value"
      ],
      "metadata": {
        "id": "KAogxXulfath"
      }
    },
    {
      "cell_type": "markdown",
      "source": [
        "# 1. Import necessary libraries"
      ],
      "metadata": {
        "id": "IbSr6Ac052Mc"
      }
    },
    {
      "cell_type": "code",
      "source": [
        "import numpy as np\n",
        "import pandas as pd\n",
        "import seaborn as sns\n",
        "import matplotlib.pyplot as plt\n",
        "\n",
        "from sklearn.datasets import fetch_california_housing, load_diabetes"
      ],
      "metadata": {
        "id": "lmVRJbItGNTH"
      },
      "execution_count": 7,
      "outputs": []
    },
    {
      "cell_type": "markdown",
      "source": [
        "# 2. Import the sample datasets"
      ],
      "metadata": {
        "id": "E-giMqWHJLlC"
      }
    },
    {
      "cell_type": "code",
      "source": [
        "rng = np.random.RandomState(42)\n",
        "\n",
        "X_diabetes, y_diabetes = load_diabetes(return_X_y=True)\n",
        "X_california, y_california = fetch_california_housing(return_X_y=True)\n"
      ],
      "metadata": {
        "id": "b7-eSGVsGexO"
      },
      "execution_count": 21,
      "outputs": []
    },
    {
      "cell_type": "code",
      "source": [
        "pd.DataFrame(X_california).shape , pd.DataFrame(X_diabetes).shape"
      ],
      "metadata": {
        "colab": {
          "base_uri": "https://localhost:8080/"
        },
        "id": "5YlsKDxzGts3",
        "outputId": "8f7aac56-af50-4475-d5d8-bdc79fb47add"
      },
      "execution_count": 24,
      "outputs": [
        {
          "output_type": "execute_result",
          "data": {
            "text/plain": [
              "((20640, 8), (442, 10))"
            ]
          },
          "metadata": {},
          "execution_count": 24
        }
      ]
    },
    {
      "cell_type": "code",
      "source": [
        "pd.DataFrame(X_california).isnull().sum()  ,  pd.DataFrame(X_diabetes).isnull().sum()"
      ],
      "metadata": {
        "colab": {
          "base_uri": "https://localhost:8080/"
        },
        "id": "BTbvqXe0JxqZ",
        "outputId": "dce1ae4f-ddae-435e-e3fd-ca0ef89a2b72"
      },
      "execution_count": 28,
      "outputs": [
        {
          "output_type": "execute_result",
          "data": {
            "text/plain": [
              "(0    0\n",
              " 1    0\n",
              " 2    0\n",
              " 3    0\n",
              " 4    0\n",
              " 5    0\n",
              " 6    0\n",
              " 7    0\n",
              " dtype: int64,\n",
              " 0    0\n",
              " 1    0\n",
              " 2    0\n",
              " 3    0\n",
              " 4    0\n",
              " 5    0\n",
              " 6    0\n",
              " 7    0\n",
              " 8    0\n",
              " 9    0\n",
              " dtype: int64)"
            ]
          },
          "metadata": {},
          "execution_count": 28
        }
      ]
    },
    {
      "cell_type": "markdown",
      "source": [
        "# 3. Define Helper function for Missing value creation and apply\n",
        "\n",
        "Since the original data doesn't have missing values we will write a function and add missing values"
      ],
      "metadata": {
        "id": "mlTUU8hgKDkf"
      }
    },
    {
      "cell_type": "code",
      "source": [
        "def add_missing_values(X_full, y_full):\n",
        "    n_samples, n_features = X_full.shape\n",
        "\n",
        "    # Add missing values in 75% of the lines\n",
        "    missing_rate = 0.75\n",
        "    n_missing_samples = int(n_samples * missing_rate)\n",
        "\n",
        "    missing_samples = np.zeros(n_samples, dtype=bool)\n",
        "    missing_samples[:n_missing_samples] = True\n",
        "\n",
        "    rng.shuffle(missing_samples)\n",
        "    missing_features = rng.randint(0, n_features, n_missing_samples)\n",
        "    X_missing = X_full.copy()\n",
        "    X_missing[missing_samples, missing_features] = np.nan\n",
        "    y_missing = y_full.copy()\n",
        "\n",
        "    return X_missing, y_missing"
      ],
      "metadata": {
        "id": "tR4rbDo2GowV"
      },
      "execution_count": 29,
      "outputs": []
    },
    {
      "cell_type": "code",
      "source": [
        "X_miss_california, y_miss_california = add_missing_values(X_california, y_california)\n",
        "\n",
        "X_miss_diabetes, y_miss_diabetes = add_missing_values(X_diabetes, y_diabetes)"
      ],
      "metadata": {
        "id": "o9dip7BEHMNZ"
      },
      "execution_count": 32,
      "outputs": []
    },
    {
      "cell_type": "code",
      "source": [
        "pd.DataFrame(X_miss_california).isnull().sum()  ,  pd.DataFrame(X_miss_diabetes).isnull().sum()"
      ],
      "metadata": {
        "colab": {
          "base_uri": "https://localhost:8080/"
        },
        "id": "XXkUTxwDHfPA",
        "outputId": "5357a13c-5074-406e-c40e-3144120b4450"
      },
      "execution_count": 33,
      "outputs": [
        {
          "output_type": "execute_result",
          "data": {
            "text/plain": [
              "(0    1949\n",
              " 1    1975\n",
              " 2    1930\n",
              " 3    1885\n",
              " 4    1990\n",
              " 5    1862\n",
              " 6    1950\n",
              " 7    1939\n",
              " dtype: int64,\n",
              " 0    28\n",
              " 1    33\n",
              " 2    39\n",
              " 3    41\n",
              " 4    26\n",
              " 5    23\n",
              " 6    37\n",
              " 7    35\n",
              " 8    37\n",
              " 9    32\n",
              " dtype: int64)"
            ]
          },
          "metadata": {},
          "execution_count": 33
        }
      ]
    },
    {
      "cell_type": "code",
      "source": [
        "rng = np.random.RandomState(0)\n",
        "\n",
        "from sklearn.ensemble import RandomForestRegressor\n",
        "\n",
        "# To use the experimental IterativeImputer, we need to explicitly ask for it:\n",
        "from sklearn.experimental import enable_iterative_imputer  # noqa\n",
        "from sklearn.impute import IterativeImputer, KNNImputer, SimpleImputer\n",
        "from sklearn.model_selection import cross_val_score\n",
        "from sklearn.pipeline import make_pipeline\n",
        "\n",
        "N_SPLITS = 4\n",
        "regressor = RandomForestRegressor(random_state=0)"
      ],
      "metadata": {
        "id": "ncKLi6_5HllG"
      },
      "execution_count": 34,
      "outputs": []
    },
    {
      "cell_type": "code",
      "source": [
        "def get_scores_for_imputer(imputer, X_missing, y_missing):\n",
        "    estimator = make_pipeline(imputer, regressor)\n",
        "    impute_scores = cross_val_score(\n",
        "        estimator, X_missing, y_missing, scoring=\"neg_mean_squared_error\", cv=N_SPLITS\n",
        "    )\n",
        "    return impute_scores\n",
        "\n",
        "\n",
        "x_labels = []\n",
        "\n",
        "mses_california = np.zeros(5)\n",
        "stds_california = np.zeros(5)\n",
        "mses_diabetes = np.zeros(5)\n",
        "stds_diabetes = np.zeros(5)"
      ],
      "metadata": {
        "id": "pwG0r0ubH2mo"
      },
      "execution_count": 70,
      "outputs": []
    },
    {
      "cell_type": "markdown",
      "source": [
        "# 4. Estimate the score on the original dataset"
      ],
      "metadata": {
        "id": "x5GQ_w0rLlHO"
      }
    },
    {
      "cell_type": "code",
      "source": [
        "def get_full_score(X_full, y_full):\n",
        "    full_scores = cross_val_score(\n",
        "        regressor, X_full, y_full, scoring=\"neg_mean_squared_error\", cv=N_SPLITS\n",
        "    )\n",
        "    return full_scores.mean(), full_scores.std()\n",
        "\n",
        "\n",
        "mses_california[0], stds_california[0] = get_full_score(X_california, y_california)\n",
        "mses_diabetes[0], stds_diabetes[0] = get_full_score(X_diabetes, y_diabetes)\n",
        "x_labels.append(\"Full data\")"
      ],
      "metadata": {
        "id": "Leh93pUyH7N5"
      },
      "execution_count": 71,
      "outputs": []
    },
    {
      "cell_type": "code",
      "source": [
        "mses_california[0], stds_california[0] , mses_diabetes[0], stds_diabetes[0]"
      ],
      "metadata": {
        "colab": {
          "base_uri": "https://localhost:8080/"
        },
        "id": "PfGqrEBeMKjU",
        "outputId": "463ebfde-0245-438d-e686-8eb2c89e88a0"
      },
      "execution_count": 72,
      "outputs": [
        {
          "output_type": "execute_result",
          "data": {
            "text/plain": [
              "(-0.4491168267632567,\n",
              " 0.09699339874281475,\n",
              " -3316.0058251003275,\n",
              " 170.0032040818847)"
            ]
          },
          "metadata": {},
          "execution_count": 72
        }
      ]
    },
    {
      "cell_type": "markdown",
      "source": [
        "# 5. Replace missing values by 0 and estimate the score"
      ],
      "metadata": {
        "id": "eRG1a2zPNbGR"
      }
    },
    {
      "cell_type": "code",
      "source": [
        "def get_impute_zero_score(X_missing, y_missing):\n",
        "    imputer = SimpleImputer(\n",
        "        missing_values=np.nan, add_indicator=True, strategy=\"constant\", fill_value=0\n",
        "    )\n",
        "    zero_impute_scores = get_scores_for_imputer(imputer, X_missing, y_missing)\n",
        "    return zero_impute_scores.mean(), zero_impute_scores.std()\n",
        "\n",
        "\n",
        "mses_california[1], stds_california[1] = get_impute_zero_score(\n",
        "    X_miss_california, y_miss_california\n",
        ")\n",
        "mses_diabetes[1], stds_diabetes[1] = get_impute_zero_score(\n",
        "    X_miss_diabetes, y_miss_diabetes\n",
        ")\n",
        "x_labels.append(\"Zero imputation\")"
      ],
      "metadata": {
        "id": "MGhzx7R_IAEz"
      },
      "execution_count": 73,
      "outputs": []
    },
    {
      "cell_type": "code",
      "source": [
        "mses_california[1], stds_california[1] , mses_diabetes[1], stds_diabetes[1]"
      ],
      "metadata": {
        "colab": {
          "base_uri": "https://localhost:8080/"
        },
        "id": "igHX2JnZOJgk",
        "outputId": "b5a5c1a6-24f9-4ca4-a98e-d134a2ec367d"
      },
      "execution_count": 74,
      "outputs": [
        {
          "output_type": "execute_result",
          "data": {
            "text/plain": [
              "(-0.5490594547750298,\n",
              " 0.12854370596180023,\n",
              " -3363.6841380753485,\n",
              " 133.9790652091614)"
            ]
          },
          "metadata": {},
          "execution_count": 74
        }
      ]
    },
    {
      "cell_type": "markdown",
      "source": [
        "# 6. kNN-imputation of the missing values and estimation of the score"
      ],
      "metadata": {
        "id": "1C8ayCrDOWRp"
      }
    },
    {
      "cell_type": "code",
      "source": [
        "def get_impute_knn_score(X_missing, y_missing):\n",
        "    imputer = KNNImputer(missing_values=np.nan, add_indicator=True)\n",
        "    knn_impute_scores = get_scores_for_imputer(imputer, X_missing, y_missing)\n",
        "    return knn_impute_scores.mean(), knn_impute_scores.std()\n",
        "\n",
        "\n",
        "mses_california[2], stds_california[2] = get_impute_knn_score(\n",
        "    X_miss_california, y_miss_california\n",
        ")\n",
        "mses_diabetes[2], stds_diabetes[2] = get_impute_knn_score(\n",
        "    X_miss_diabetes, y_miss_diabetes\n",
        ")\n",
        "x_labels.append(\"KNN Imputation\")"
      ],
      "metadata": {
        "id": "NrpX2mOfIaMf"
      },
      "execution_count": 75,
      "outputs": []
    },
    {
      "cell_type": "code",
      "source": [
        "mses_california[2], stds_california[2] , mses_diabetes[2], stds_diabetes[2]"
      ],
      "metadata": {
        "colab": {
          "base_uri": "https://localhost:8080/"
        },
        "id": "FIyUhRhHPSpd",
        "outputId": "aeeac958-733a-4550-e15c-e2430656c4a4"
      },
      "execution_count": 76,
      "outputs": [
        {
          "output_type": "execute_result",
          "data": {
            "text/plain": [
              "(-0.5174254669097699,\n",
              " 0.09333742455246408,\n",
              " -3465.1338052088454,\n",
              " 177.11431735410636)"
            ]
          },
          "metadata": {},
          "execution_count": 76
        }
      ]
    },
    {
      "cell_type": "markdown",
      "source": [
        "# 7. Impute missing values with mean and estimation of the score"
      ],
      "metadata": {
        "id": "_4eIMUE7O2GI"
      }
    },
    {
      "cell_type": "code",
      "source": [
        "def get_impute_mean(X_missing, y_missing):\n",
        "    imputer = SimpleImputer(missing_values=np.nan, strategy=\"mean\", add_indicator=True)\n",
        "    mean_impute_scores = get_scores_for_imputer(imputer, X_missing, y_missing)\n",
        "    return mean_impute_scores.mean(), mean_impute_scores.std()\n",
        "\n",
        "\n",
        "mses_california[3], stds_california[3] = get_impute_mean(\n",
        "    X_miss_california, y_miss_california\n",
        ")\n",
        "mses_diabetes[3], stds_diabetes[3] = get_impute_mean(X_miss_diabetes, y_miss_diabetes)\n",
        "x_labels.append(\"Mean Imputation\")"
      ],
      "metadata": {
        "id": "iB9ERIy3IiYn"
      },
      "execution_count": 77,
      "outputs": []
    },
    {
      "cell_type": "code",
      "source": [
        "mses_california[3], stds_california[3] , mses_diabetes[3], stds_diabetes[3]"
      ],
      "metadata": {
        "colab": {
          "base_uri": "https://localhost:8080/"
        },
        "id": "12xAXDP-P0k5",
        "outputId": "3bf7ad23-64fb-4408-fa06-8475c8bd49bc"
      },
      "execution_count": 78,
      "outputs": [
        {
          "output_type": "execute_result",
          "data": {
            "text/plain": [
              "(-0.5415784231916527,\n",
              " 0.08750290628864729,\n",
              " -3382.8969897153975,\n",
              " 74.22332125998919)"
            ]
          },
          "metadata": {},
          "execution_count": 78
        }
      ]
    },
    {
      "cell_type": "markdown",
      "source": [
        "# 8. Iterative imputation of the missing values"
      ],
      "metadata": {
        "id": "iQU1tdSDQF7_"
      }
    },
    {
      "cell_type": "code",
      "source": [
        "def get_impute_iterative(X_missing, y_missing):\n",
        "    imputer = IterativeImputer(\n",
        "        missing_values=np.nan,\n",
        "        add_indicator=True,\n",
        "        random_state=0,\n",
        "        n_nearest_features=3,\n",
        "        max_iter=1,\n",
        "        sample_posterior=True,\n",
        "    )\n",
        "    iterative_impute_scores = get_scores_for_imputer(imputer, X_missing, y_missing)\n",
        "    return iterative_impute_scores.mean(), iterative_impute_scores.std()\n",
        "\n",
        "\n",
        "mses_california[4], stds_california[4] = get_impute_iterative(\n",
        "    X_miss_california, y_miss_california\n",
        ")\n",
        "mses_diabetes[4], stds_diabetes[4] = get_impute_iterative(\n",
        "    X_miss_diabetes, y_miss_diabetes\n",
        ")\n",
        "x_labels.append(\"Iterative Imputation\")\n",
        "\n",
        "mses_diabetes = mses_diabetes * -1\n",
        "mses_california = mses_california * -1"
      ],
      "metadata": {
        "id": "G72mOjqRIoKw"
      },
      "execution_count": 79,
      "outputs": []
    },
    {
      "cell_type": "code",
      "source": [
        "mses_california[4], stds_california[4] , mses_diabetes[4], stds_diabetes[4]"
      ],
      "metadata": {
        "colab": {
          "base_uri": "https://localhost:8080/"
        },
        "id": "aL3moqAyQleN",
        "outputId": "e70331f1-0f04-48b5-b763-17e31157ea80"
      },
      "execution_count": 80,
      "outputs": [
        {
          "output_type": "execute_result",
          "data": {
            "text/plain": [
              "(0.5733218582199582,\n",
              " 0.09166292031307421,\n",
              " 3371.7563937162167,\n",
              " 281.36960168565156)"
            ]
          },
          "metadata": {},
          "execution_count": 80
        }
      ]
    },
    {
      "cell_type": "markdown",
      "source": [
        "# 9. Visualization of model performance post different types of missing value imputation"
      ],
      "metadata": {
        "id": "71tMdgazZKfG"
      }
    },
    {
      "cell_type": "code",
      "source": [
        "import matplotlib.pyplot as plt\n",
        "\n",
        "n_bars = len(mses_diabetes)\n",
        "xval = np.arange(n_bars)\n",
        "\n",
        "colors = [\"r\", \"g\", \"b\", \"orange\", \"black\"]\n",
        "\n",
        "# plot diabetes results\n",
        "plt.figure(figsize=(12, 6))\n",
        "ax1 = plt.subplot(121)\n",
        "for j in xval:\n",
        "    ax1.barh(\n",
        "        j,\n",
        "        mses_diabetes[j],\n",
        "        xerr=stds_diabetes[j],\n",
        "        color=colors[j],\n",
        "        alpha=0.6,\n",
        "        align=\"center\",\n",
        "    )\n",
        "\n",
        "ax1.set_title(\"Imputation Techniques with Diabetes Data\")\n",
        "ax1.set_xlim(left=np.min(mses_diabetes) * 0.9, right=np.max(mses_diabetes) * 1.1)\n",
        "ax1.set_yticks(xval)\n",
        "ax1.set_xlabel(\"MSE\")\n",
        "ax1.invert_yaxis()\n",
        "ax1.set_yticklabels(x_labels)\n",
        "\n",
        "# plot california dataset results\n",
        "ax2 = plt.subplot(122)\n",
        "for j in xval:\n",
        "    ax2.barh(\n",
        "        j,\n",
        "        mses_california[j],\n",
        "        xerr=stds_california[j],\n",
        "        color=colors[j],\n",
        "        alpha=0.6,\n",
        "        align=\"center\",\n",
        "    )\n",
        "\n",
        "ax2.set_title(\"Imputation Techniques with California Data\")\n",
        "ax2.set_yticks(xval)\n",
        "ax2.set_xlabel(\"MSE\")\n",
        "ax2.invert_yaxis()\n",
        "ax2.set_yticklabels([\"\"] * n_bars)\n",
        "\n",
        "plt.show()"
      ],
      "metadata": {
        "colab": {
          "base_uri": "https://localhost:8080/",
          "height": 564
        },
        "id": "0lO_5WiNIvct",
        "outputId": "93f6a8bd-5243-45ea-aad4-9feb4bbbe259"
      },
      "execution_count": 81,
      "outputs": [
        {
          "output_type": "display_data",
          "data": {
            "text/plain": [
              "<Figure size 1200x600 with 2 Axes>"
            ],
            "image/png": "[encoded data removed]"
          },
          "metadata": {}
        }
      ]
    },
    {
      "cell_type": "code",
      "source": [],
      "metadata": {
        "id": "xHQgcA3fI3IE"
      },
      "execution_count": null,
      "outputs": []
    }
  ],
  "metadata": {
    "colab": {
      "provenance": []
    },
    "kernelspec": {
      "display_name": "Python 3",
      "name": "python3"
    },
    "language_info": {
      "name": "python"
    }
  },
  "nbformat": 4,
  "nbformat_minor": 0
}