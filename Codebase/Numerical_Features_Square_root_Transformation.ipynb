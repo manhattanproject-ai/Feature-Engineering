{
  "nbformat": 4,
  "nbformat_minor": 0,
  "metadata": {
    "colab": {
      "provenance": []
    },
    "kernelspec": {
      "name": "python3",
      "display_name": "Python 3"
    },
    "language_info": {
      "name": "python"
    }
  },
  "cells": [
    {
      "cell_type": "markdown",
      "source": [
        "# Feature creation - Numerical features ( Feature Transformation )\n",
        "\n",
        "2. Square root transformation\n",
        "\n",
        "Imagine you're looking at the number of likes different videos get online. Some videos might get a few hundred likes, others might get thousands, and a few viral ones could get millions!\n",
        "\n",
        "If you were to compare these numbers directly, the videos with millions of likes would seem incredibly far away from the ones with just a few hundred. It can be hard to see the relative difference between the videos with smaller numbers of likes.\n",
        "\n",
        "Square root transformation is like using a special magnifying glass that helps us see the differences in the smaller numbers more clearly, while also shrinking down the really huge numbers a bit.\n",
        "\n",
        "Think of it like this:\n",
        "\n",
        "1. The square root of 9 is 3.\n",
        "2. The square root of 100 is 10.\n",
        "3. The square root of 10,000 is 100.\n",
        "4. The square root of 1,000,000 is 1000.\n",
        "\n",
        "Notice how the gap between 9 and 100 is big (91), but the gap between their square roots (3 and 10) is smaller (7). Similarly, the huge gap between 10,000 and 1,000,000 becomes a much smaller gap between their square roots (100 and 1000).\n",
        "\n",
        "Here's a simple example with video likes:\n",
        "\n",
        "Let's say we have the following number of likes for some videos:\n",
        "\n",
        "100\n",
        "\n",
        "400\n",
        "\n",
        "900\n",
        "\n",
        "1600\n",
        "\n",
        "10000\n",
        "\n",
        "Now, let's apply the square root transformation to these numbers:\n",
        "\n",
        "1. Square root of 100 is 10\n",
        "2. Square root of 400 is 20\n",
        "3. Square root of 900 is 30\n",
        "4. Square root of 1600 is 40\n",
        "5. Square root of 10000 is 100\n",
        "\n",
        "See how the original numbers had increasingly larger gaps between them? After the square root transformation, the gaps are more consistent (all 10s, except the last one which is larger but still relatively smaller than the original jump).\n",
        "\n",
        "Why is this useful?\n",
        "\n",
        "1. Reduces the impact of very large values: Just like the log transformation, the square root transformation helps to bring extreme values closer to the rest of the data. This can be useful when these extreme values might be skewing our analysis or confusing our computer models.\n",
        "2. Makes differences in smaller values more apparent: By shrinking the larger values, the differences between the smaller values become relatively more significant and easier to see.\n",
        "3. Can help with data that has a \"square\" relationship: In some cases, the relationship between things might be based on squares (like the area of a square depending on its side length). A square root transformation can sometimes help reveal a more linear relationship, which is easier for some computer models to understand.\n",
        "\n",
        "In simple terms, the square root transformation is like a tool that helps us balance out the range of our data. It makes the big numbers less overwhelming and allows us to see the finer details in the smaller numbers more clearly. It's another way to get a better perspective on data that has a wide spread of values.\n",
        "\n",
        "\n",
        "\n"
      ],
      "metadata": {
        "id": "x-0JE_AtyhgC"
      }
    },
    {
      "cell_type": "markdown",
      "source": [
        "# 1. Import necessary libraries"
      ],
      "metadata": {
        "id": "SYzCD1DRzhiE"
      }
    },
    {
      "cell_type": "code",
      "source": [
        "import numpy as np\n",
        "import pandas as pd\n",
        "import matplotlib.pyplot as plt\n",
        "import seaborn as sns"
      ],
      "metadata": {
        "id": "E_RYQmPReUMk"
      },
      "execution_count": 81,
      "outputs": []
    },
    {
      "cell_type": "markdown",
      "source": [
        "# 2. Create dataset"
      ],
      "metadata": {
        "id": "TP65ZUW56IIb"
      }
    },
    {
      "cell_type": "code",
      "source": [
        "# 1. Real-life Example: Number of Likes on Online Videos\n",
        "\n",
        "# Imagine you have data on the number of likes different videos received.\n",
        "# This data can be highly skewed, with a few viral videos having millions of likes.\n",
        "\n",
        "video_likes = [\n",
        "    150, 220, 180, 300, 250, 100, 50, 600, 450, 120,\n",
        "    200, 280, 160, 350, 210, 80, 70, 1200, 900, 150,\n",
        "    250, 310, 190, 400, 270, 110, 90, 1800, 750, 220,\n",
        "    300, 260, 140, 420, 230, 130, 60, 2400, 500, 180,\n",
        "    # Imagine many more videos with likes in the hundreds or low thousands\n",
        "]"
      ],
      "metadata": {
        "id": "O53jDsBoebsl"
      },
      "execution_count": 82,
      "outputs": []
    },
    {
      "cell_type": "markdown",
      "source": [
        "# 3. Add skewed datapoints to the dataset"
      ],
      "metadata": {
        "id": "qwekFQ516NEk"
      }
    },
    {
      "cell_type": "code",
      "source": [
        "# Let's add some viral videos with significantly higher likes\n",
        "video_likes += [10000, 50000, 200000, 1500000]"
      ],
      "metadata": {
        "id": "_l-REh3jefbp"
      },
      "execution_count": 83,
      "outputs": []
    },
    {
      "cell_type": "code",
      "source": [
        "# Create a Pandas Series\n",
        "video_likes_original = pd.Series(video_likes + list(np.random.randint(50, 1000, 90)) + list(np.random.randint(1000, 5000, 10)),name='Original Video Likes')"
      ],
      "metadata": {
        "id": "668pVzSKek41"
      },
      "execution_count": 73,
      "outputs": []
    },
    {
      "cell_type": "markdown",
      "source": [
        "# 4. Visualize the Video Likes distribution"
      ],
      "metadata": {
        "id": "EhckIfcL6aFQ"
      }
    },
    {
      "cell_type": "code",
      "source": [
        "# Visualize the original distribution\n",
        "plt.figure(figsize=(10, 5))\n",
        "plt.subplot(1, 2, 1)\n",
        "sns.histplot(video_likes_original, kde=True , color='Red')\n",
        "plt.title('Original Video Likes Distribution')\n",
        "plt.xlabel('Number of likes')\n",
        "plt.ylabel('Frequency');\n",
        "\n",
        "\n",
        "plt.tight_layout()\n",
        "plt.show()"
      ],
      "metadata": {
        "colab": {
          "base_uri": "https://localhost:8080/",
          "height": 507
        },
        "id": "msKLqfexeoaJ",
        "outputId": "889b1491-19b0-45f5-b0e8-78ef1f7524bd"
      },
      "execution_count": 84,
      "outputs": [
        {
          "output_type": "display_data",
          "data": {
            "text/plain": [
              "<Figure size 1000x500 with 1 Axes>"
            ],
            "image/png": "[encoded data removed]"
          },
          "metadata": {}
        }
      ]
    },
    {
      "cell_type": "markdown",
      "source": [
        "Not Visible at all since some the values are very high"
      ],
      "metadata": {
        "id": "sBwyqOo-60e9"
      }
    },
    {
      "cell_type": "code",
      "source": [
        "# Visualize till 1 lakh views\n",
        "plt.figure(figsize=(10, 5))\n",
        "plt.subplot(1, 2, 1)\n",
        "sns.histplot(video_likes_original, kde=True , color='Red')\n",
        "plt.title('Original Video Likes Distribution')\n",
        "plt.xlabel('Number of likes')\n",
        "plt.ylabel('Frequency');\n",
        "plt.xlim(0, 100000)  # Adjust this limit as needed based on your data\n",
        "\n",
        "plt.tight_layout()\n",
        "plt.show()"
      ],
      "metadata": {
        "colab": {
          "base_uri": "https://localhost:8080/",
          "height": 507
        },
        "id": "MlU__NplGFYJ",
        "outputId": "322282fe-709f-4b12-92a1-a44a0906ce73"
      },
      "execution_count": 85,
      "outputs": [
        {
          "output_type": "display_data",
          "data": {
            "text/plain": [
              "<Figure size 1000x500 with 1 Axes>"
            ],
            "image/png": "[encoded data removed]"
          },
          "metadata": {}
        }
      ]
    },
    {
      "cell_type": "markdown",
      "source": [
        "Most of the likes are below 5000"
      ],
      "metadata": {
        "id": "pmZcG1JJGpYm"
      }
    },
    {
      "cell_type": "code",
      "source": [
        "# Visualize till 5000 likes\n",
        "plt.figure(figsize=(10, 5))\n",
        "plt.subplot(1, 2, 1)\n",
        "sns.histplot(video_likes_original, kde=True , color='Red')\n",
        "plt.title('Original Video Likes Distribution')\n",
        "plt.xlabel('Number of likes')\n",
        "plt.ylabel('Frequency');\n",
        "plt.xlim(0, 5000)  # Adjust this limit as needed based on your data\n",
        "\n",
        "plt.tight_layout()\n",
        "plt.show()"
      ],
      "metadata": {
        "colab": {
          "base_uri": "https://localhost:8080/",
          "height": 507
        },
        "id": "1op-JsWsGU_x",
        "outputId": "9325a977-f7f1-4fb5-9a83-9d9a5a9f8f2c"
      },
      "execution_count": 86,
      "outputs": [
        {
          "output_type": "display_data",
          "data": {
            "text/plain": [
              "<Figure size 1000x500 with 1 Axes>"
            ],
            "image/png": "[encoded data removed]"
          },
          "metadata": {}
        }
      ]
    },
    {
      "cell_type": "markdown",
      "source": [
        "# 5. Feature transformation using square root transformation"
      ],
      "metadata": {
        "id": "xnq5AQOL64pb"
      }
    },
    {
      "cell_type": "code",
      "source": [
        "# Apply Square Root Transformation\n",
        "video_likes_sqrt = np.sqrt(video_likes_original)"
      ],
      "metadata": {
        "id": "75nJf5LuDAe-"
      },
      "execution_count": 87,
      "outputs": []
    },
    {
      "cell_type": "code",
      "source": [
        "sqrt_transformed_likes = pd.Series(video_likes_sqrt, name='sqrt of Video Likes')"
      ],
      "metadata": {
        "id": "P9No1aTI-Wk0"
      },
      "execution_count": 88,
      "outputs": []
    },
    {
      "cell_type": "markdown",
      "source": [
        "# 6. Visualize the Square root transformed feature"
      ],
      "metadata": {
        "id": "m4P0Y2Fk7Ah2"
      }
    },
    {
      "cell_type": "code",
      "source": [
        "# Visualize the transformed distribution\n",
        "plt.figure(figsize=(15, 8))\n",
        "plt.subplot(1, 2, 2)\n",
        "sns.histplot(sqrt_transformed_likes, kde=True , color='Red')\n",
        "plt.title('Sqrt-Transformed Likes Distribution')\n",
        "plt.xlabel('Sqrt of Number of likes')\n",
        "plt.ylabel('Frequency')\n",
        "\n",
        "plt.tight_layout()\n",
        "plt.show()"
      ],
      "metadata": {
        "colab": {
          "base_uri": "https://localhost:8080/",
          "height": 807
        },
        "id": "OTnfOW6B4hCm",
        "outputId": "2a645e82-ffcc-47f6-b2ac-52f98b622294"
      },
      "execution_count": 89,
      "outputs": [
        {
          "output_type": "display_data",
          "data": {
            "text/plain": [
              "<Figure size 1500x800 with 1 Axes>"
            ],
            "image/png": "[encoded data removed]"
          },
          "metadata": {}
        }
      ]
    },
    {
      "cell_type": "markdown",
      "source": [
        "Inference : The square root transformation has likely made the distribution of the number of likes less skewed and potentially closer to a normal distribution by compressing the higher values."
      ],
      "metadata": {
        "id": "ZxmktbuY7erM"
      }
    },
    {
      "cell_type": "markdown",
      "source": [
        "Mathematical Form: y' = √y or y' = y^(1/2)\n",
        "\n",
        "When to Use:\n",
        "\n",
        "1. Moderate Right Skew: Useful for data that is moderately right-skewed. It has a weaker effect than the log transformation.\n",
        "2. Count Data: Often used for count data, especially when the variance is proportional to the mean (following a Poisson-like distribution).\n",
        "\n",
        "How it Helps:\n",
        "\n",
        "1. Reducing Right Skewness: Pulls in the long tail, making the distribution more symmetric.\n",
        "2. Stabilizing Variance: Can help stabilize variance, although often less effectively than the log transformation for highly skewed data.\n",
        "\n",
        "Important Considerations:\n",
        "\n",
        "1. Non-Negative Data: Requires non-negative data (values greater than or equal to zero).\n",
        "2. Interpretation: Similar to the log transformation, interpretation needs to be done carefully, considering the transformed scale."
      ],
      "metadata": {
        "id": "31gaIY7l5MIc"
      }
    },
    {
      "cell_type": "markdown",
      "source": [
        "# 7. Comparing the 2 columns"
      ],
      "metadata": {
        "id": "QdFeI_XX8NkL"
      }
    },
    {
      "cell_type": "code",
      "source": [
        "# Create DataFrame using pd.concat()\n",
        "df_concat = pd.concat([video_likes_original, sqrt_transformed_likes], axis=1 )\n",
        "df_concat"
      ],
      "metadata": {
        "colab": {
          "base_uri": "https://localhost:8080/",
          "height": 424
        },
        "id": "XwME-x5F4ndE",
        "outputId": "f32e811b-6b0f-402c-8f25-c6b6bc25bf2e"
      },
      "execution_count": 90,
      "outputs": [
        {
          "output_type": "execute_result",
          "data": {
            "text/plain": [
              "     Original Video Likes  sqrt of Video Likes\n",
              "0                     150            12.247449\n",
              "1                     220            14.832397\n",
              "2                     180            13.416408\n",
              "3                     300            17.320508\n",
              "4                     250            15.811388\n",
              "..                    ...                  ...\n",
              "139                  2763            52.564246\n",
              "140                  4094            63.984373\n",
              "141                  1339            36.592349\n",
              "142                  2458            49.578221\n",
              "143                  1327            36.428011\n",
              "\n",
              "[144 rows x 2 columns]"
            ],
            "text/html": [
              "\n",
              "  <div id=\"df-bb98d7df-4d3d-433e-8369-b1d40609e591\" class=\"colab-df-container\">\n",
              "    <div>\n",
              "<style scoped>\n",
              "    .dataframe tbody tr th:only-of-type {\n",
              "        vertical-align: middle;\n",
              "    }\n",
              "\n",
              "    .dataframe tbody tr th {\n",
              "        vertical-align: top;\n",
              "    }\n",
              "\n",
              "    .dataframe thead th {\n",
              "        text-align: right;\n",
              "    }\n",
              "</style>\n",
              "<table border=\"1\" class=\"dataframe\">\n",
              "  <thead>\n",
              "    <tr style=\"text-align: right;\">\n",
              "      <th></th>\n",
              "      <th>Original Video Likes</th>\n",
              "      <th>sqrt of Video Likes</th>\n",
              "    </tr>\n",
              "  </thead>\n",
              "  <tbody>\n",
              "    <tr>\n",
              "      <th>0</th>\n",
              "      <td>150</td>\n",
              "      <td>12.247449</td>\n",
              "    </tr>\n",
              "    <tr>\n",
              "      <th>1</th>\n",
              "      <td>220</td>\n",
              "      <td>14.832397</td>\n",
              "    </tr>\n",
              "    <tr>\n",
              "      <th>2</th>\n",
              "      <td>180</td>\n",
              "      <td>13.416408</td>\n",
              "    </tr>\n",
              "    <tr>\n",
              "      <th>3</th>\n",
              "      <td>300</td>\n",
              "      <td>17.320508</td>\n",
              "    </tr>\n",
              "    <tr>\n",
              "      <th>4</th>\n",
              "      <td>250</td>\n",
              "      <td>15.811388</td>\n",
              "    </tr>\n",
              "    <tr>\n",
              "      <th>...</th>\n",
              "      <td>...</td>\n",
              "      <td>...</td>\n",
              "    </tr>\n",
              "    <tr>\n",
              "      <th>139</th>\n",
              "      <td>2763</td>\n",
              "      <td>52.564246</td>\n",
              "    </tr>\n",
              "    <tr>\n",
              "      <th>140</th>\n",
              "      <td>4094</td>\n",
              "      <td>63.984373</td>\n",
              "    </tr>\n",
              "    <tr>\n",
              "      <th>141</th>\n",
              "      <td>1339</td>\n",
              "      <td>36.592349</td>\n",
              "    </tr>\n",
              "    <tr>\n",
              "      <th>142</th>\n",
              "      <td>2458</td>\n",
              "      <td>49.578221</td>\n",
              "    </tr>\n",
              "    <tr>\n",
              "      <th>143</th>\n",
              "      <td>1327</td>\n",
              "      <td>36.428011</td>\n",
              "    </tr>\n",
              "  </tbody>\n",
              "</table>\n",
              "<p>144 rows × 2 columns</p>\n",
              "</div>\n",
              "    <div class=\"colab-df-buttons\">\n",
              "\n",
              "  <div class=\"colab-df-container\">\n",
              "    <button class=\"colab-df-convert\" onclick=\"convertToInteractive('df-bb98d7df-4d3d-433e-8369-b1d40609e591')\"\n",
              "            title=\"Convert this dataframe to an interactive table.\"\n",
              "            style=\"display:none;\">\n",
              "\n",
              "  <svg xmlns=\"http://www.w3.org/2000/svg\" height=\"24px\" viewBox=\"0 -960 960 960\">\n",
              "    <path d=\"M120-120v-720h720v720H120Zm60-500h600v-160H180v160Zm220 220h160v-160H400v160Zm0 220h160v-160H400v160ZM180-400h160v-160H180v160Zm440 0h160v-160H620v160ZM180-180h160v-160H180v160Zm440 0h160v-160H620v160Z\"/>\n",
              "  </svg>\n",
              "    </button>\n",
              "\n",
              "  <style>\n",
              "    .colab-df-container {\n",
              "      display:flex;\n",
              "      gap: 12px;\n",
              "    }\n",
              "\n",
              "    .colab-df-convert {\n",
              "      background-color: #E8F0FE;\n",
              "      border: none;\n",
              "      border-radius: 50%;\n",
              "      cursor: pointer;\n",
              "      display: none;\n",
              "      fill: #1967D2;\n",
              "      height: 32px;\n",
              "      padding: 0 0 0 0;\n",
              "      width: 32px;\n",
              "    }\n",
              "\n",
              "    .colab-df-convert:hover {\n",
              "      background-color: #E2EBFA;\n",
              "      box-shadow: 0px 1px 2px rgba(60, 64, 67, 0.3), 0px 1px 3px 1px rgba(60, 64, 67, 0.15);\n",
              "      fill: #174EA6;\n",
              "    }\n",
              "\n",
              "    .colab-df-buttons div {\n",
              "      margin-bottom: 4px;\n",
              "    }\n",
              "\n",
              "    [theme=dark] .colab-df-convert {\n",
              "      background-color: #3B4455;\n",
              "      fill: #D2E3FC;\n",
              "    }\n",
              "\n",
              "    [theme=dark] .colab-df-convert:hover {\n",
              "      background-color: #434B5C;\n",
              "      box-shadow: 0px 1px 3px 1px rgba(0, 0, 0, 0.15);\n",
              "      filter: drop-shadow(0px 1px 2px rgba(0, 0, 0, 0.3));\n",
              "      fill: #FFFFFF;\n",
              "    }\n",
              "  </style>\n",
              "\n",
              "    <script>\n",
              "      const buttonEl =\n",
              "        document.querySelector('#df-bb98d7df-4d3d-433e-8369-b1d40609e591 button.colab-df-convert');\n",
              "      buttonEl.style.display =\n",
              "        google.colab.kernel.accessAllowed ? 'block' : 'none';\n",
              "\n",
              "      async function convertToInteractive(key) {\n",
              "        const element = document.querySelector('#df-bb98d7df-4d3d-433e-8369-b1d40609e591');\n",
              "        const dataTable =\n",
              "          await google.colab.kernel.invokeFunction('convertToInteractive',\n",
              "                                                    [key], {});\n",
              "        if (!dataTable) return;\n",
              "\n",
              "        const docLinkHtml = 'Like what you see? Visit the ' +\n",
              "          '<a target=\"_blank\" href=https://colab.research.google.com/notebooks/data_table.ipynb>data table notebook</a>'\n",
              "          + ' to learn more about interactive tables.';\n",
              "        element.innerHTML = '';\n",
              "        dataTable['output_type'] = 'display_data';\n",
              "        await google.colab.output.renderOutput(dataTable, element);\n",
              "        const docLink = document.createElement('div');\n",
              "        docLink.innerHTML = docLinkHtml;\n",
              "        element.appendChild(docLink);\n",
              "      }\n",
              "    </script>\n",
              "  </div>\n",
              "\n",
              "\n",
              "<div id=\"df-df334906-c583-4560-8d4e-89344b5a1164\">\n",
              "  <button class=\"colab-df-quickchart\" onclick=\"quickchart('df-df334906-c583-4560-8d4e-89344b5a1164')\"\n",
              "            title=\"Suggest charts\"\n",
              "            style=\"display:none;\">\n",
              "\n",
              "<svg xmlns=\"http://www.w3.org/2000/svg\" height=\"24px\"viewBox=\"0 0 24 24\"\n",
              "     width=\"24px\">\n",
              "    <g>\n",
              "        <path d=\"M19 3H5c-1.1 0-2 .9-2 2v14c0 1.1.9 2 2 2h14c1.1 0 2-.9 2-2V5c0-1.1-.9-2-2-2zM9 17H7v-7h2v7zm4 0h-2V7h2v10zm4 0h-2v-4h2v4z\"/>\n",
              "    </g>\n",
              "</svg>\n",
              "  </button>\n",
              "\n",
              "<style>\n",
              "  .colab-df-quickchart {\n",
              "      --bg-color: #E8F0FE;\n",
              "      --fill-color: #1967D2;\n",
              "      --hover-bg-color: #E2EBFA;\n",
              "      --hover-fill-color: #174EA6;\n",
              "      --disabled-fill-color: #AAA;\n",
              "      --disabled-bg-color: #DDD;\n",
              "  }\n",
              "\n",
              "  [theme=dark] .colab-df-quickchart {\n",
              "      --bg-color: #3B4455;\n",
              "      --fill-color: #D2E3FC;\n",
              "      --hover-bg-color: #434B5C;\n",
              "      --hover-fill-color: #FFFFFF;\n",
              "      --disabled-bg-color: #3B4455;\n",
              "      --disabled-fill-color: #666;\n",
              "  }\n",
              "\n",
              "  .colab-df-quickchart {\n",
              "    background-color: var(--bg-color);\n",
              "    border: none;\n",
              "    border-radius: 50%;\n",
              "    cursor: pointer;\n",
              "    display: none;\n",
              "    fill: var(--fill-color);\n",
              "    height: 32px;\n",
              "    padding: 0;\n",
              "    width: 32px;\n",
              "  }\n",
              "\n",
              "  .colab-df-quickchart:hover {\n",
              "    background-color: var(--hover-bg-color);\n",
              "    box-shadow: 0 1px 2px rgba(60, 64, 67, 0.3), 0 1px 3px 1px rgba(60, 64, 67, 0.15);\n",
              "    fill: var(--button-hover-fill-color);\n",
              "  }\n",
              "\n",
              "  .colab-df-quickchart-complete:disabled,\n",
              "  .colab-df-quickchart-complete:disabled:hover {\n",
              "    background-color: var(--disabled-bg-color);\n",
              "    fill: var(--disabled-fill-color);\n",
              "    box-shadow: none;\n",
              "  }\n",
              "\n",
              "  .colab-df-spinner {\n",
              "    border: 2px solid var(--fill-color);\n",
              "    border-color: transparent;\n",
              "    border-bottom-color: var(--fill-color);\n",
              "    animation:\n",
              "      spin 1s steps(1) infinite;\n",
              "  }\n",
              "\n",
              "  @keyframes spin {\n",
              "    0% {\n",
              "      border-color: transparent;\n",
              "      border-bottom-color: var(--fill-color);\n",
              "      border-left-color: var(--fill-color);\n",
              "    }\n",
              "    20% {\n",
              "      border-color: transparent;\n",
              "      border-left-color: var(--fill-color);\n",
              "      border-top-color: var(--fill-color);\n",
              "    }\n",
              "    30% {\n",
              "      border-color: transparent;\n",
              "      border-left-color: var(--fill-color);\n",
              "      border-top-color: var(--fill-color);\n",
              "      border-right-color: var(--fill-color);\n",
              "    }\n",
              "    40% {\n",
              "      border-color: transparent;\n",
              "      border-right-color: var(--fill-color);\n",
              "      border-top-color: var(--fill-color);\n",
              "    }\n",
              "    60% {\n",
              "      border-color: transparent;\n",
              "      border-right-color: var(--fill-color);\n",
              "    }\n",
              "    80% {\n",
              "      border-color: transparent;\n",
              "      border-right-color: var(--fill-color);\n",
              "      border-bottom-color: var(--fill-color);\n",
              "    }\n",
              "    90% {\n",
              "      border-color: transparent;\n",
              "      border-bottom-color: var(--fill-color);\n",
              "    }\n",
              "  }\n",
              "</style>\n",
              "\n",
              "  <script>\n",
              "    async function quickchart(key) {\n",
              "      const quickchartButtonEl =\n",
              "        document.querySelector('#' + key + ' button');\n",
              "      quickchartButtonEl.disabled = true;  // To prevent multiple clicks.\n",
              "      quickchartButtonEl.classList.add('colab-df-spinner');\n",
              "      try {\n",
              "        const charts = await google.colab.kernel.invokeFunction(\n",
              "            'suggestCharts', [key], {});\n",
              "      } catch (error) {\n",
              "        console.error('Error during call to suggestCharts:', error);\n",
              "      }\n",
              "      quickchartButtonEl.classList.remove('colab-df-spinner');\n",
              "      quickchartButtonEl.classList.add('colab-df-quickchart-complete');\n",
              "    }\n",
              "    (() => {\n",
              "      let quickchartButtonEl =\n",
              "        document.querySelector('#df-df334906-c583-4560-8d4e-89344b5a1164 button');\n",
              "      quickchartButtonEl.style.display =\n",
              "        google.colab.kernel.accessAllowed ? 'block' : 'none';\n",
              "    })();\n",
              "  </script>\n",
              "</div>\n",
              "\n",
              "  <div id=\"id_b997abbd-0370-47f6-92e4-b1fcf7af7242\">\n",
              "    <style>\n",
              "      .colab-df-generate {\n",
              "        background-color: #E8F0FE;\n",
              "        border: none;\n",
              "        border-radius: 50%;\n",
              "        cursor: pointer;\n",
              "        display: none;\n",
              "        fill: #1967D2;\n",
              "        height: 32px;\n",
              "        padding: 0 0 0 0;\n",
              "        width: 32px;\n",
              "      }\n",
              "\n",
              "      .colab-df-generate:hover {\n",
              "        background-color: #E2EBFA;\n",
              "        box-shadow: 0px 1px 2px rgba(60, 64, 67, 0.3), 0px 1px 3px 1px rgba(60, 64, 67, 0.15);\n",
              "        fill: #174EA6;\n",
              "      }\n",
              "\n",
              "      [theme=dark] .colab-df-generate {\n",
              "        background-color: #3B4455;\n",
              "        fill: #D2E3FC;\n",
              "      }\n",
              "\n",
              "      [theme=dark] .colab-df-generate:hover {\n",
              "        background-color: #434B5C;\n",
              "        box-shadow: 0px 1px 3px 1px rgba(0, 0, 0, 0.15);\n",
              "        filter: drop-shadow(0px 1px 2px rgba(0, 0, 0, 0.3));\n",
              "        fill: #FFFFFF;\n",
              "      }\n",
              "    </style>\n",
              "    <button class=\"colab-df-generate\" onclick=\"generateWithVariable('df_concat')\"\n",
              "            title=\"Generate code using this dataframe.\"\n",
              "            style=\"display:none;\">\n",
              "\n",
              "  <svg xmlns=\"http://www.w3.org/2000/svg\" height=\"24px\"viewBox=\"0 0 24 24\"\n",
              "       width=\"24px\">\n",
              "    <path d=\"M7,19H8.4L18.45,9,17,7.55,7,17.6ZM5,21V16.75L18.45,3.32a2,2,0,0,1,2.83,0l1.4,1.43a1.91,1.91,0,0,1,.58,1.4,1.91,1.91,0,0,1-.58,1.4L9.25,21ZM18.45,9,17,7.55Zm-12,3A5.31,5.31,0,0,0,4.9,8.1,5.31,5.31,0,0,0,1,6.5,5.31,5.31,0,0,0,4.9,4.9,5.31,5.31,0,0,0,6.5,1,5.31,5.31,0,0,0,8.1,4.9,5.31,5.31,0,0,0,12,6.5,5.46,5.46,0,0,0,6.5,12Z\"/>\n",
              "  </svg>\n",
              "    </button>\n",
              "    <script>\n",
              "      (() => {\n",
              "      const buttonEl =\n",
              "        document.querySelector('#id_b997abbd-0370-47f6-92e4-b1fcf7af7242 button.colab-df-generate');\n",
              "      buttonEl.style.display =\n",
              "        google.colab.kernel.accessAllowed ? 'block' : 'none';\n",
              "\n",
              "      buttonEl.onclick = () => {\n",
              "        google.colab.notebook.generateWithVariable('df_concat');\n",
              "      }\n",
              "      })();\n",
              "    </script>\n",
              "  </div>\n",
              "\n",
              "    </div>\n",
              "  </div>\n"
            ],
            "application/vnd.google.colaboratory.intrinsic+json": {
              "type": "dataframe",
              "variable_name": "df_concat",
              "summary": "{\n  \"name\": \"df_concat\",\n  \"rows\": 144,\n  \"fields\": [\n    {\n      \"column\": \"Original Video Likes\",\n      \"properties\": {\n        \"dtype\": \"number\",\n        \"std\": 125964,\n        \"min\": 50,\n        \"max\": 1500000,\n        \"num_unique_values\": 134,\n        \"samples\": [\n          4879,\n          255,\n          414\n        ],\n        \"semantic_type\": \"\",\n        \"description\": \"\"\n      }\n    },\n    {\n      \"column\": \"sqrt of Video Likes\",\n      \"properties\": {\n        \"dtype\": \"number\",\n        \"std\": 107.92559915420462,\n        \"min\": 7.0710678118654755,\n        \"max\": 1224.744871391589,\n        \"num_unique_values\": 134,\n        \"samples\": [\n          69.84983894040128,\n          15.968719422671311,\n          20.346989949375804\n        ],\n        \"semantic_type\": \"\",\n        \"description\": \"\"\n      }\n    }\n  ]\n}"
            }
          },
          "metadata": {},
          "execution_count": 90
        }
      ]
    },
    {
      "cell_type": "markdown",
      "source": [
        "So while considering in a model we should consider the 'sqrt of Video Likes' column"
      ],
      "metadata": {
        "id": "b8ohb6u38SBo"
      }
    },
    {
      "cell_type": "code",
      "source": [],
      "metadata": {
        "id": "pahf2HKJ8J24"
      },
      "execution_count": null,
      "outputs": []
    }
  ]
}