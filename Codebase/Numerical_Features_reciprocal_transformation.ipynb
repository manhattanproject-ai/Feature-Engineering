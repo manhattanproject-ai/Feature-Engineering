{
  "nbformat": 4,
  "nbformat_minor": 0,
  "metadata": {
    "colab": {
      "provenance": []
    },
    "kernelspec": {
      "name": "python3",
      "display_name": "Python 3"
    },
    "language_info": {
      "name": "python"
    }
  },
  "cells": [
    {
      "cell_type": "markdown",
      "source": [
        "# Feature creation - Numerical features ( Feature Transformation )\n",
        "\n",
        "5. Reciprocal transformation\n",
        "\n",
        "Imagine you're timing how long it takes different cars to travel a certain distance. Some cars are fast, taking only a few seconds, while others are slower and take longer.\n",
        "\n",
        "If you were to look at just the time taken, the differences between the slower cars might seem larger than the differences between the faster cars (because the numbers are bigger).\n",
        "\n",
        "Reciprocal transformation is like flipping the numbers over. Instead of looking at the time taken, we look at the speed (even if we don't calculate it directly). It's like saying, \"Instead of how many seconds, let's think about how much of the journey they complete in one second.\"\n",
        "\n",
        "Mathematically, if you have a number (like time taken), the reciprocal is 1 divided by that number (1 / time taken).\n",
        "\n",
        "Here's a simple example with travel time (in seconds):\n",
        "\n",
        "Let's say we have the following travel times for different cars:\n",
        "\n",
        "1. Car A: 5 seconds (fast)\n",
        "2. Car B: 10 seconds\n",
        "3. Car C: 20 seconds\n",
        "4. Car D: 40 seconds (slow)\n",
        "\n",
        "Now, let's apply the reciprocal transformation (1 / time taken):\n",
        "\n",
        "1. Reciprocal of Car A's time: 1 / 5 = 0.2\n",
        "2. Reciprocal of Car B's time: 1 / 10 = 0.1\n",
        "3. Reciprocal of Car C's time: 1 / 20 = 0.05\n",
        "4. Reciprocal of Car D's time: 1 / 40 = 0.025\n",
        "\n",
        "Notice what happened:\n",
        "\n",
        "The original times had a constant difference of 5, then 10, then 20.\n",
        "The reciprocals now have differences that are changing, and the faster times (smaller original numbers) now have larger reciprocal values. The difference between the \"speed\" of Car A (0.2) and Car B (0.1) is 0.1, while the difference between the \"speed\" of Car C (0.05) and Car D (0.025) is 0.025.\n",
        "\n",
        "Why is this useful?\n",
        "\n",
        "1. Can help with skewed data: If your data has a long tail on the right (many small values and a few very large ones, like our slow car times if we had many slow cars), the reciprocal transformation can sometimes help to reduce the skew.\n",
        "2. Can linearize relationships: In some cases, the relationship between variables might be inverse (as one goes up, the other goes down in a curved way). Taking the reciprocal of one of the variables can sometimes make this relationship more linear, which is easier for some computer models to understand.\n",
        "3. Focuses on rate or intensity: When the underlying concept is a rate (like speed = distance/time, or frequency = 1/period), using the reciprocal can directly represent that rate.\n",
        "\n",
        "Important things to keep in mind:\n",
        "\n",
        "1. Cannot be used with zero values: The reciprocal of zero is undefined (you can't divide by zero). If your data has zeros, you might need to add a small constant to all values before applying the transformation.\n",
        "3. Can change the order of negative values: The reciprocal of a larger negative number is a smaller negative number (e.g., 1/-2 is -0.5, which is greater than 1/-10 = -0.1).\n",
        "\n",
        "In simple terms, reciprocal transformation is like looking at the \"opposite\" of your data. Instead of focusing on the size of a value, you focus on its inverse. This can be helpful for understanding rates, dealing with certain types of skewed data, and making relationships between variables more straightforward for analysis. It's like flipping a problem on its head to see if it looks clearer from a different angle."
      ],
      "metadata": {
        "id": "x-0JE_AtyhgC"
      }
    },
    {
      "cell_type": "markdown",
      "source": [
        "# 1. Import necessary libraries"
      ],
      "metadata": {
        "id": "SYzCD1DRzhiE"
      }
    },
    {
      "cell_type": "code",
      "source": [
        "import numpy as np\n",
        "import pandas as pd\n",
        "import matplotlib.pyplot as plt\n",
        "import seaborn as sns"
      ],
      "metadata": {
        "id": "E_RYQmPReUMk"
      },
      "execution_count": 132,
      "outputs": []
    },
    {
      "cell_type": "markdown",
      "source": [
        "# 2. Create dataset"
      ],
      "metadata": {
        "id": "TP65ZUW56IIb"
      }
    },
    {
      "cell_type": "code",
      "source": [
        "# 1. Real-life Example: Time Taken for Delivery (in minutes)\n",
        "\n",
        "# Imagine you have data on the time taken for different delivery orders.\n",
        "# Faster deliveries take less time (smaller values), while slower ones take more.\n",
        "\n",
        "delivery_times = [\n",
        "    5, 7, 6, 8, 9, 4, 10, 12, 7, 6,\n",
        "    8, 9, 5, 11, 7, 6, 13, 15, 8, 7,\n",
        "    # Imagine more delivery times, mostly under 15 minutes\n",
        "]"
      ],
      "metadata": {
        "id": "O53jDsBoebsl"
      },
      "execution_count": 133,
      "outputs": []
    },
    {
      "cell_type": "markdown",
      "source": [
        "# 3. Add skewed datapoints to the dataset"
      ],
      "metadata": {
        "id": "qwekFQ516NEk"
      }
    },
    {
      "cell_type": "code",
      "source": [
        "# Let's add some slower deliveries (longer times) to create skewness\n",
        "delivery_times += [20, 25, 30, 35, 40]"
      ],
      "metadata": {
        "id": "_l-REh3jefbp"
      },
      "execution_count": 134,
      "outputs": []
    },
    {
      "cell_type": "code",
      "source": [
        "# Create a Pandas Series\n",
        "delivery_times_original = pd.Series(delivery_times + list(np.random.randint(10, 80, 90)) + list(np.random.randint(80, 300, 10)),name='Original Delivery Times')"
      ],
      "metadata": {
        "id": "668pVzSKek41"
      },
      "execution_count": 135,
      "outputs": []
    },
    {
      "cell_type": "markdown",
      "source": [
        "# 4. Visualize the Population Density"
      ],
      "metadata": {
        "id": "EhckIfcL6aFQ"
      }
    },
    {
      "cell_type": "code",
      "source": [
        "# Visualize the original distribution\n",
        "plt.figure(figsize=(15, 8))\n",
        "plt.subplot(1, 2, 1)\n",
        "sns.histplot(delivery_times_original, kde=True , color='Red')\n",
        "plt.title('Original Delivery Time Distribution (Minutes)')\n",
        "plt.xlabel('Delivery Time (Minutes)')\n",
        "plt.ylabel('Frequency')\n",
        "\n",
        "plt.tight_layout()\n",
        "plt.show()"
      ],
      "metadata": {
        "colab": {
          "base_uri": "https://localhost:8080/",
          "height": 807
        },
        "id": "msKLqfexeoaJ",
        "outputId": "dc6b24a3-b84c-484e-eae7-b0e816fab643"
      },
      "execution_count": 136,
      "outputs": [
        {
          "output_type": "display_data",
          "data": {
            "text/plain": [
              "<Figure size 1500x800 with 1 Axes>"
            ],
            "image/png": "[encoded data removed]"
          },
          "metadata": {}
        }
      ]
    },
    {
      "cell_type": "markdown",
      "source": [
        "The original delivery time distribution is positively skewed, indicating that most deliveries take a shorter amount of time, with a tail extending towards longer delivery times."
      ],
      "metadata": {
        "id": "j0zjaTi7R3wv"
      }
    },
    {
      "cell_type": "markdown",
      "source": [
        "# 5. Feature transformation using Reciprocal transformation"
      ],
      "metadata": {
        "id": "xnq5AQOL64pb"
      }
    },
    {
      "cell_type": "code",
      "source": [
        "# Apply Reciprocal Transformation (1 / x)\n",
        "# Be careful with zero values - we don't have any here, but in real data, you might need to handle them.\n",
        "delivery_speed = 1 / delivery_times_original"
      ],
      "metadata": {
        "id": "INhjgBgcSDAz"
      },
      "execution_count": 137,
      "outputs": []
    },
    {
      "cell_type": "code",
      "source": [
        "reciprocal_delivery_speed = pd.Series(delivery_speed, name='reciprocal delivery speed')"
      ],
      "metadata": {
        "id": "P9No1aTI-Wk0"
      },
      "execution_count": 138,
      "outputs": []
    },
    {
      "cell_type": "markdown",
      "source": [
        "# 6. Visualize the reciprocal transformed feature"
      ],
      "metadata": {
        "id": "m4P0Y2Fk7Ah2"
      }
    },
    {
      "cell_type": "code",
      "source": [
        "# Visualize the transformed distribution\n",
        "plt.figure(figsize=(15, 8))\n",
        "plt.subplot(1, 2, 2)\n",
        "sns.histplot(reciprocal_delivery_speed, kde=True , color='Red')\n",
        "plt.title('Reciprocal Transformed Delivery Time (Represents \"Speed\")')\n",
        "plt.xlabel('1 / Delivery Time')\n",
        "plt.ylabel('Frequency')\n",
        "\n",
        "plt.tight_layout()\n",
        "plt.show()"
      ],
      "metadata": {
        "colab": {
          "base_uri": "https://localhost:8080/",
          "height": 807
        },
        "id": "OTnfOW6B4hCm",
        "outputId": "0aa285d2-426c-4e1e-bee4-69fd34f209d4"
      },
      "execution_count": 139,
      "outputs": [
        {
          "output_type": "display_data",
          "data": {
            "text/plain": [
              "<Figure size 1500x800 with 1 Axes>"
            ],
            "image/png": "[encoded data removed]"
          },
          "metadata": {}
        }
      ]
    },
    {
      "cell_type": "markdown",
      "source": [
        "Inference : The reciprocal transformed delivery time distribution, representing \"speed,\" is positively skewed, indicating a higher frequency of lower speeds (longer delivery times) and a tail extending towards higher speeds (shorter delivery times)."
      ],
      "metadata": {
        "id": "ZxmktbuY7erM"
      }
    },
    {
      "cell_type": "markdown",
      "source": [
        "Mathematical Form: y' = 1/y\n",
        "\n",
        "When to Use:\n",
        "\n",
        "Strong Right Skew: Useful for severely right-skewed data where the log transformation might not be sufficient.\n",
        "\n",
        "Relationships Where the Effect Diminishes: If the impact of a variable decreases as its value increases, a reciprocal transformation can help linearize the relationship (e.g., the relationship between speed and travel time).\n",
        "\n",
        "How it Helps:\n",
        "\n",
        "Drastic Reduction in Right Skewness: Pulls the long tail in very aggressively.\n",
        "Linearizing Certain Non-Linear Relationships: Can make inverse relationships more linear.\n",
        "\n",
        "Important Considerations:\n",
        "\n",
        "1. Non-Zero Data: Cannot be applied to data containing zero values.\n",
        "2. Change in Order: The order of the data is reversed after the transformation (larger values become smaller, and vice versa). This needs to be considered during interpretation.\n",
        "\n",
        "Interpretation: Interpretation can be challenging as the units of the transformed variable are the inverse of the original units."
      ],
      "metadata": {
        "id": "31gaIY7l5MIc"
      }
    },
    {
      "cell_type": "markdown",
      "source": [
        "# 7. Comparing the 2 columns"
      ],
      "metadata": {
        "id": "QdFeI_XX8NkL"
      }
    },
    {
      "cell_type": "code",
      "source": [
        "# Create DataFrame using pd.concat()\n",
        "df_concat = pd.concat([delivery_times_original, reciprocal_delivery_speed], axis=1 )\n",
        "df_concat"
      ],
      "metadata": {
        "colab": {
          "base_uri": "https://localhost:8080/",
          "height": 424
        },
        "id": "XwME-x5F4ndE",
        "outputId": "a6ea8a09-1e30-4bde-b446-92130030de6a"
      },
      "execution_count": 140,
      "outputs": [
        {
          "output_type": "execute_result",
          "data": {
            "text/plain": [
              "     Original Delivery Times  reciprocal delivery speed\n",
              "0                          5                   0.200000\n",
              "1                          7                   0.142857\n",
              "2                          6                   0.166667\n",
              "3                          8                   0.125000\n",
              "4                          9                   0.111111\n",
              "..                       ...                        ...\n",
              "120                      189                   0.005291\n",
              "121                      129                   0.007752\n",
              "122                      230                   0.004348\n",
              "123                      287                   0.003484\n",
              "124                      249                   0.004016\n",
              "\n",
              "[125 rows x 2 columns]"
            ],
            "text/html": [
              "\n",
              "  <div id=\"df-7c9f392b-a90f-4b69-9d7b-480fd0cc42f7\" class=\"colab-df-container\">\n",
              "    <div>\n",
              "<style scoped>\n",
              "    .dataframe tbody tr th:only-of-type {\n",
              "        vertical-align: middle;\n",
              "    }\n",
              "\n",
              "    .dataframe tbody tr th {\n",
              "        vertical-align: top;\n",
              "    }\n",
              "\n",
              "    .dataframe thead th {\n",
              "        text-align: right;\n",
              "    }\n",
              "</style>\n",
              "<table border=\"1\" class=\"dataframe\">\n",
              "  <thead>\n",
              "    <tr style=\"text-align: right;\">\n",
              "      <th></th>\n",
              "      <th>Original Delivery Times</th>\n",
              "      <th>reciprocal delivery speed</th>\n",
              "    </tr>\n",
              "  </thead>\n",
              "  <tbody>\n",
              "    <tr>\n",
              "      <th>0</th>\n",
              "      <td>5</td>\n",
              "      <td>0.200000</td>\n",
              "    </tr>\n",
              "    <tr>\n",
              "      <th>1</th>\n",
              "      <td>7</td>\n",
              "      <td>0.142857</td>\n",
              "    </tr>\n",
              "    <tr>\n",
              "      <th>2</th>\n",
              "      <td>6</td>\n",
              "      <td>0.166667</td>\n",
              "    </tr>\n",
              "    <tr>\n",
              "      <th>3</th>\n",
              "      <td>8</td>\n",
              "      <td>0.125000</td>\n",
              "    </tr>\n",
              "    <tr>\n",
              "      <th>4</th>\n",
              "      <td>9</td>\n",
              "      <td>0.111111</td>\n",
              "    </tr>\n",
              "    <tr>\n",
              "      <th>...</th>\n",
              "      <td>...</td>\n",
              "      <td>...</td>\n",
              "    </tr>\n",
              "    <tr>\n",
              "      <th>120</th>\n",
              "      <td>189</td>\n",
              "      <td>0.005291</td>\n",
              "    </tr>\n",
              "    <tr>\n",
              "      <th>121</th>\n",
              "      <td>129</td>\n",
              "      <td>0.007752</td>\n",
              "    </tr>\n",
              "    <tr>\n",
              "      <th>122</th>\n",
              "      <td>230</td>\n",
              "      <td>0.004348</td>\n",
              "    </tr>\n",
              "    <tr>\n",
              "      <th>123</th>\n",
              "      <td>287</td>\n",
              "      <td>0.003484</td>\n",
              "    </tr>\n",
              "    <tr>\n",
              "      <th>124</th>\n",
              "      <td>249</td>\n",
              "      <td>0.004016</td>\n",
              "    </tr>\n",
              "  </tbody>\n",
              "</table>\n",
              "<p>125 rows × 2 columns</p>\n",
              "</div>\n",
              "    <div class=\"colab-df-buttons\">\n",
              "\n",
              "  <div class=\"colab-df-container\">\n",
              "    <button class=\"colab-df-convert\" onclick=\"convertToInteractive('df-7c9f392b-a90f-4b69-9d7b-480fd0cc42f7')\"\n",
              "            title=\"Convert this dataframe to an interactive table.\"\n",
              "            style=\"display:none;\">\n",
              "\n",
              "  <svg xmlns=\"http://www.w3.org/2000/svg\" height=\"24px\" viewBox=\"0 -960 960 960\">\n",
              "    <path d=\"M120-120v-720h720v720H120Zm60-500h600v-160H180v160Zm220 220h160v-160H400v160Zm0 220h160v-160H400v160ZM180-400h160v-160H180v160Zm440 0h160v-160H620v160ZM180-180h160v-160H180v160Zm440 0h160v-160H620v160Z\"/>\n",
              "  </svg>\n",
              "    </button>\n",
              "\n",
              "  <style>\n",
              "    .colab-df-container {\n",
              "      display:flex;\n",
              "      gap: 12px;\n",
              "    }\n",
              "\n",
              "    .colab-df-convert {\n",
              "      background-color: #E8F0FE;\n",
              "      border: none;\n",
              "      border-radius: 50%;\n",
              "      cursor: pointer;\n",
              "      display: none;\n",
              "      fill: #1967D2;\n",
              "      height: 32px;\n",
              "      padding: 0 0 0 0;\n",
              "      width: 32px;\n",
              "    }\n",
              "\n",
              "    .colab-df-convert:hover {\n",
              "      background-color: #E2EBFA;\n",
              "      box-shadow: 0px 1px 2px rgba(60, 64, 67, 0.3), 0px 1px 3px 1px rgba(60, 64, 67, 0.15);\n",
              "      fill: #174EA6;\n",
              "    }\n",
              "\n",
              "    .colab-df-buttons div {\n",
              "      margin-bottom: 4px;\n",
              "    }\n",
              "\n",
              "    [theme=dark] .colab-df-convert {\n",
              "      background-color: #3B4455;\n",
              "      fill: #D2E3FC;\n",
              "    }\n",
              "\n",
              "    [theme=dark] .colab-df-convert:hover {\n",
              "      background-color: #434B5C;\n",
              "      box-shadow: 0px 1px 3px 1px rgba(0, 0, 0, 0.15);\n",
              "      filter: drop-shadow(0px 1px 2px rgba(0, 0, 0, 0.3));\n",
              "      fill: #FFFFFF;\n",
              "    }\n",
              "  </style>\n",
              "\n",
              "    <script>\n",
              "      const buttonEl =\n",
              "        document.querySelector('#df-7c9f392b-a90f-4b69-9d7b-480fd0cc42f7 button.colab-df-convert');\n",
              "      buttonEl.style.display =\n",
              "        google.colab.kernel.accessAllowed ? 'block' : 'none';\n",
              "\n",
              "      async function convertToInteractive(key) {\n",
              "        const element = document.querySelector('#df-7c9f392b-a90f-4b69-9d7b-480fd0cc42f7');\n",
              "        const dataTable =\n",
              "          await google.colab.kernel.invokeFunction('convertToInteractive',\n",
              "                                                    [key], {});\n",
              "        if (!dataTable) return;\n",
              "\n",
              "        const docLinkHtml = 'Like what you see? Visit the ' +\n",
              "          '<a target=\"_blank\" href=https://colab.research.google.com/notebooks/data_table.ipynb>data table notebook</a>'\n",
              "          + ' to learn more about interactive tables.';\n",
              "        element.innerHTML = '';\n",
              "        dataTable['output_type'] = 'display_data';\n",
              "        await google.colab.output.renderOutput(dataTable, element);\n",
              "        const docLink = document.createElement('div');\n",
              "        docLink.innerHTML = docLinkHtml;\n",
              "        element.appendChild(docLink);\n",
              "      }\n",
              "    </script>\n",
              "  </div>\n",
              "\n",
              "\n",
              "<div id=\"df-2f6c8630-4352-4bfb-bb70-930ad27c2752\">\n",
              "  <button class=\"colab-df-quickchart\" onclick=\"quickchart('df-2f6c8630-4352-4bfb-bb70-930ad27c2752')\"\n",
              "            title=\"Suggest charts\"\n",
              "            style=\"display:none;\">\n",
              "\n",
              "<svg xmlns=\"http://www.w3.org/2000/svg\" height=\"24px\"viewBox=\"0 0 24 24\"\n",
              "     width=\"24px\">\n",
              "    <g>\n",
              "        <path d=\"M19 3H5c-1.1 0-2 .9-2 2v14c0 1.1.9 2 2 2h14c1.1 0 2-.9 2-2V5c0-1.1-.9-2-2-2zM9 17H7v-7h2v7zm4 0h-2V7h2v10zm4 0h-2v-4h2v4z\"/>\n",
              "    </g>\n",
              "</svg>\n",
              "  </button>\n",
              "\n",
              "<style>\n",
              "  .colab-df-quickchart {\n",
              "      --bg-color: #E8F0FE;\n",
              "      --fill-color: #1967D2;\n",
              "      --hover-bg-color: #E2EBFA;\n",
              "      --hover-fill-color: #174EA6;\n",
              "      --disabled-fill-color: #AAA;\n",
              "      --disabled-bg-color: #DDD;\n",
              "  }\n",
              "\n",
              "  [theme=dark] .colab-df-quickchart {\n",
              "      --bg-color: #3B4455;\n",
              "      --fill-color: #D2E3FC;\n",
              "      --hover-bg-color: #434B5C;\n",
              "      --hover-fill-color: #FFFFFF;\n",
              "      --disabled-bg-color: #3B4455;\n",
              "      --disabled-fill-color: #666;\n",
              "  }\n",
              "\n",
              "  .colab-df-quickchart {\n",
              "    background-color: var(--bg-color);\n",
              "    border: none;\n",
              "    border-radius: 50%;\n",
              "    cursor: pointer;\n",
              "    display: none;\n",
              "    fill: var(--fill-color);\n",
              "    height: 32px;\n",
              "    padding: 0;\n",
              "    width: 32px;\n",
              "  }\n",
              "\n",
              "  .colab-df-quickchart:hover {\n",
              "    background-color: var(--hover-bg-color);\n",
              "    box-shadow: 0 1px 2px rgba(60, 64, 67, 0.3), 0 1px 3px 1px rgba(60, 64, 67, 0.15);\n",
              "    fill: var(--button-hover-fill-color);\n",
              "  }\n",
              "\n",
              "  .colab-df-quickchart-complete:disabled,\n",
              "  .colab-df-quickchart-complete:disabled:hover {\n",
              "    background-color: var(--disabled-bg-color);\n",
              "    fill: var(--disabled-fill-color);\n",
              "    box-shadow: none;\n",
              "  }\n",
              "\n",
              "  .colab-df-spinner {\n",
              "    border: 2px solid var(--fill-color);\n",
              "    border-color: transparent;\n",
              "    border-bottom-color: var(--fill-color);\n",
              "    animation:\n",
              "      spin 1s steps(1) infinite;\n",
              "  }\n",
              "\n",
              "  @keyframes spin {\n",
              "    0% {\n",
              "      border-color: transparent;\n",
              "      border-bottom-color: var(--fill-color);\n",
              "      border-left-color: var(--fill-color);\n",
              "    }\n",
              "    20% {\n",
              "      border-color: transparent;\n",
              "      border-left-color: var(--fill-color);\n",
              "      border-top-color: var(--fill-color);\n",
              "    }\n",
              "    30% {\n",
              "      border-color: transparent;\n",
              "      border-left-color: var(--fill-color);\n",
              "      border-top-color: var(--fill-color);\n",
              "      border-right-color: var(--fill-color);\n",
              "    }\n",
              "    40% {\n",
              "      border-color: transparent;\n",
              "      border-right-color: var(--fill-color);\n",
              "      border-top-color: var(--fill-color);\n",
              "    }\n",
              "    60% {\n",
              "      border-color: transparent;\n",
              "      border-right-color: var(--fill-color);\n",
              "    }\n",
              "    80% {\n",
              "      border-color: transparent;\n",
              "      border-right-color: var(--fill-color);\n",
              "      border-bottom-color: var(--fill-color);\n",
              "    }\n",
              "    90% {\n",
              "      border-color: transparent;\n",
              "      border-bottom-color: var(--fill-color);\n",
              "    }\n",
              "  }\n",
              "</style>\n",
              "\n",
              "  <script>\n",
              "    async function quickchart(key) {\n",
              "      const quickchartButtonEl =\n",
              "        document.querySelector('#' + key + ' button');\n",
              "      quickchartButtonEl.disabled = true;  // To prevent multiple clicks.\n",
              "      quickchartButtonEl.classList.add('colab-df-spinner');\n",
              "      try {\n",
              "        const charts = await google.colab.kernel.invokeFunction(\n",
              "            'suggestCharts', [key], {});\n",
              "      } catch (error) {\n",
              "        console.error('Error during call to suggestCharts:', error);\n",
              "      }\n",
              "      quickchartButtonEl.classList.remove('colab-df-spinner');\n",
              "      quickchartButtonEl.classList.add('colab-df-quickchart-complete');\n",
              "    }\n",
              "    (() => {\n",
              "      let quickchartButtonEl =\n",
              "        document.querySelector('#df-2f6c8630-4352-4bfb-bb70-930ad27c2752 button');\n",
              "      quickchartButtonEl.style.display =\n",
              "        google.colab.kernel.accessAllowed ? 'block' : 'none';\n",
              "    })();\n",
              "  </script>\n",
              "</div>\n",
              "\n",
              "  <div id=\"id_6718efb8-7b84-4e0b-a05d-902e9f22b0bb\">\n",
              "    <style>\n",
              "      .colab-df-generate {\n",
              "        background-color: #E8F0FE;\n",
              "        border: none;\n",
              "        border-radius: 50%;\n",
              "        cursor: pointer;\n",
              "        display: none;\n",
              "        fill: #1967D2;\n",
              "        height: 32px;\n",
              "        padding: 0 0 0 0;\n",
              "        width: 32px;\n",
              "      }\n",
              "\n",
              "      .colab-df-generate:hover {\n",
              "        background-color: #E2EBFA;\n",
              "        box-shadow: 0px 1px 2px rgba(60, 64, 67, 0.3), 0px 1px 3px 1px rgba(60, 64, 67, 0.15);\n",
              "        fill: #174EA6;\n",
              "      }\n",
              "\n",
              "      [theme=dark] .colab-df-generate {\n",
              "        background-color: #3B4455;\n",
              "        fill: #D2E3FC;\n",
              "      }\n",
              "\n",
              "      [theme=dark] .colab-df-generate:hover {\n",
              "        background-color: #434B5C;\n",
              "        box-shadow: 0px 1px 3px 1px rgba(0, 0, 0, 0.15);\n",
              "        filter: drop-shadow(0px 1px 2px rgba(0, 0, 0, 0.3));\n",
              "        fill: #FFFFFF;\n",
              "      }\n",
              "    </style>\n",
              "    <button class=\"colab-df-generate\" onclick=\"generateWithVariable('df_concat')\"\n",
              "            title=\"Generate code using this dataframe.\"\n",
              "            style=\"display:none;\">\n",
              "\n",
              "  <svg xmlns=\"http://www.w3.org/2000/svg\" height=\"24px\"viewBox=\"0 0 24 24\"\n",
              "       width=\"24px\">\n",
              "    <path d=\"M7,19H8.4L18.45,9,17,7.55,7,17.6ZM5,21V16.75L18.45,3.32a2,2,0,0,1,2.83,0l1.4,1.43a1.91,1.91,0,0,1,.58,1.4,1.91,1.91,0,0,1-.58,1.4L9.25,21ZM18.45,9,17,7.55Zm-12,3A5.31,5.31,0,0,0,4.9,8.1,5.31,5.31,0,0,0,1,6.5,5.31,5.31,0,0,0,4.9,4.9,5.31,5.31,0,0,0,6.5,1,5.31,5.31,0,0,0,8.1,4.9,5.31,5.31,0,0,0,12,6.5,5.46,5.46,0,0,0,6.5,12Z\"/>\n",
              "  </svg>\n",
              "    </button>\n",
              "    <script>\n",
              "      (() => {\n",
              "      const buttonEl =\n",
              "        document.querySelector('#id_6718efb8-7b84-4e0b-a05d-902e9f22b0bb button.colab-df-generate');\n",
              "      buttonEl.style.display =\n",
              "        google.colab.kernel.accessAllowed ? 'block' : 'none';\n",
              "\n",
              "      buttonEl.onclick = () => {\n",
              "        google.colab.notebook.generateWithVariable('df_concat');\n",
              "      }\n",
              "      })();\n",
              "    </script>\n",
              "  </div>\n",
              "\n",
              "    </div>\n",
              "  </div>\n"
            ],
            "application/vnd.google.colaboratory.intrinsic+json": {
              "type": "dataframe",
              "variable_name": "df_concat",
              "summary": "{\n  \"name\": \"df_concat\",\n  \"rows\": 125,\n  \"fields\": [\n    {\n      \"column\": \"Original Delivery Times\",\n      \"properties\": {\n        \"dtype\": \"number\",\n        \"std\": 56,\n        \"min\": 4,\n        \"max\": 287,\n        \"num_unique_values\": 70,\n        \"samples\": [\n          43,\n          5,\n          56\n        ],\n        \"semantic_type\": \"\",\n        \"description\": \"\"\n      }\n    },\n    {\n      \"column\": \"reciprocal delivery speed\",\n      \"properties\": {\n        \"dtype\": \"number\",\n        \"std\": 0.04708213374749306,\n        \"min\": 0.003484320557491289,\n        \"max\": 0.25,\n        \"num_unique_values\": 70,\n        \"samples\": [\n          0.023255813953488372,\n          0.2,\n          0.017857142857142856\n        ],\n        \"semantic_type\": \"\",\n        \"description\": \"\"\n      }\n    }\n  ]\n}"
            }
          },
          "metadata": {},
          "execution_count": 140
        }
      ]
    },
    {
      "cell_type": "markdown",
      "source": [
        "So while considering in a model we should consider the 'reciprocal delivery speed' column"
      ],
      "metadata": {
        "id": "b8ohb6u38SBo"
      }
    },
    {
      "cell_type": "code",
      "source": [],
      "metadata": {
        "id": "pahf2HKJ8J24"
      },
      "execution_count": null,
      "outputs": []
    }
  ]
}